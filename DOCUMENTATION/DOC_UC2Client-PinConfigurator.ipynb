{
 "cells": [
  {
   "cell_type": "markdown",
   "id": "7b18ec0a",
   "metadata": {},
   "source": [
    "<a href=\"https://colab.research.google.com/github/openUC2/UC2-REST/blob/master/DOCUMENTATION/DOC_UC2Client.ipynb\" target=\"_parent\"><img src=\"https://colab.research.google.com/assets/colab-badge.svg\" alt=\"Open in Colab\"/></a>"
   ]
  },
  {
   "cell_type": "markdown",
   "id": "0456a946",
   "metadata": {},
   "source": [
    "# UC2 Pin Configurator\n",
    "\n",
    "If you find an error, please report it [here](https://github.com/openUC2/UC2-REST/issues/new) "
   ]
  },
  {
   "cell_type": "code",
   "execution_count": 1,
   "id": "37e5e2f1",
   "metadata": {},
   "outputs": [
    {
     "name": "stdout",
     "output_type": "stream",
     "text": [
      "Requirement already satisfied: UC2-REST in /Users/bene/Dropbox/Dokumente/Promotion/PROJECTS/UC2-REST (develop)\n",
      "Requirement already satisfied: numpy in /opt/anaconda3/envs/imswitch39/lib/python3.9/site-packages (from UC2-REST) (1.23.4)\n",
      "Requirement already satisfied: requests in /opt/anaconda3/envs/imswitch39/lib/python3.9/site-packages (from UC2-REST) (2.28.0)\n",
      "Requirement already satisfied: pyserial in /opt/anaconda3/envs/imswitch39/lib/python3.9/site-packages (from UC2-REST) (3.5)\n",
      "Requirement already satisfied: esptool in /opt/anaconda3/envs/imswitch39/lib/python3.9/site-packages (from UC2-REST) (4.2.1)\n",
      "Requirement already satisfied: progressbar in /opt/anaconda3/envs/imswitch39/lib/python3.9/site-packages (from UC2-REST) (2.5)\n",
      "Requirement already satisfied: reedsolo<=1.5.4,>=1.5.3 in /opt/anaconda3/envs/imswitch39/lib/python3.9/site-packages (from esptool->UC2-REST) (1.5.4)\n",
      "Requirement already satisfied: bitstring>=3.1.6 in /opt/anaconda3/envs/imswitch39/lib/python3.9/site-packages (from esptool->UC2-REST) (3.1.9)\n",
      "Requirement already satisfied: cryptography>=2.1.4 in /opt/anaconda3/envs/imswitch39/lib/python3.9/site-packages (from esptool->UC2-REST) (37.0.4)\n",
      "Requirement already satisfied: ecdsa>=0.16.0 in /opt/anaconda3/envs/imswitch39/lib/python3.9/site-packages (from esptool->UC2-REST) (0.18.0)\n",
      "Requirement already satisfied: certifi>=2017.4.17 in /opt/anaconda3/envs/imswitch39/lib/python3.9/site-packages (from requests->UC2-REST) (2022.5.18.1)\n",
      "Requirement already satisfied: idna<4,>=2.5 in /opt/anaconda3/envs/imswitch39/lib/python3.9/site-packages (from requests->UC2-REST) (3.3)\n",
      "Requirement already satisfied: charset-normalizer~=2.0.0 in /opt/anaconda3/envs/imswitch39/lib/python3.9/site-packages (from requests->UC2-REST) (2.0.12)\n",
      "Requirement already satisfied: urllib3<1.27,>=1.21.1 in /opt/anaconda3/envs/imswitch39/lib/python3.9/site-packages (from requests->UC2-REST) (1.26.9)\n",
      "Requirement already satisfied: cffi>=1.12 in /opt/anaconda3/envs/imswitch39/lib/python3.9/site-packages (from cryptography>=2.1.4->esptool->UC2-REST) (1.15.1)\n",
      "Requirement already satisfied: six>=1.9.0 in /opt/anaconda3/envs/imswitch39/lib/python3.9/site-packages (from ecdsa>=0.16.0->esptool->UC2-REST) (1.16.0)\n",
      "Requirement already satisfied: pycparser in /opt/anaconda3/envs/imswitch39/lib/python3.9/site-packages (from cffi>=1.12->cryptography>=2.1.4->esptool->UC2-REST) (2.21)\n"
     ]
    }
   ],
   "source": [
    "!pip install UC2-REST"
   ]
  },
  {
   "cell_type": "markdown",
   "id": "623bc1e4",
   "metadata": {},
   "source": [
    "## Organize all imports\n",
    "\n",
    "First of all we need to import the `ESP32Client`. Since it is not yet a standalone pip package, we have to do that via a relaitve import, meaning that the file is in the same folder as this Jupyter Notebook"
   ]
  },
  {
   "cell_type": "code",
   "execution_count": 11,
   "id": "c5e2f6da",
   "metadata": {},
   "outputs": [
    {
     "name": "stdout",
     "output_type": "stream",
     "text": [
      "The autoreload extension is already loaded. To reload it, use:\n",
      "  %reload_ext autoreload\n"
     ]
    }
   ],
   "source": [
    "%load_ext autoreload \n",
    "%autoreload 2\n",
    "import uc2rest as uc2\n",
    "import time \n",
    "import json"
   ]
  },
  {
   "cell_type": "markdown",
   "id": "8db1ee0c",
   "metadata": {},
   "source": [
    "# Connecting to the ESP32 via USB\n",
    "\n",
    "Now we want to initiliaze the USB-serial connection. Therefore, connect the ESP32 to your computer using a data (!) USB cable and establish the connection. You can leave the port as \"unknown\" as the portfinder may identify the ESP.\n",
    "\n",
    "**Important:** Close all applications that may be connected to the ESP (e.g. Arduino Serial Plotter)\n",
    "\n",
    "**IMPORTANT:** Install the USB serial driver for the ESP32: https://learn.sparkfun.com/tutorials/how-to-install-ch340-drivers/all\n",
    "\n",
    "\n",
    "**IMPORTANT**: If this fails => check the windows COM Ports which one is likely your port and rename \"unknown\" to e.g. `\"COM3\"`"
   ]
  },
  {
   "cell_type": "code",
   "execution_count": 12,
   "id": "caadeb4f",
   "metadata": {},
   "outputs": [
    {
     "name": "stderr",
     "output_type": "stream",
     "text": [
      "2022-11-15 01:13:05 DEBUG [UC2Client] /dev/cu.usbserial-0001\n",
      "2022-11-15 01:13:08 DEBUG [UC2Client] We are connected: True on port: /dev/cu.usbserial-0001\n"
     ]
    }
   ],
   "source": [
    "# create the \n",
    "mPort = \"unkown\"\n",
    "ESP32 = uc2.UC2Client(serialport=mPort)\n",
    "ESP32.serial.DEBUG=False # only use if something is not working \n"
   ]
  },
  {
   "cell_type": "markdown",
   "id": "e492c7df",
   "metadata": {},
   "source": [
    "# Load Pinconfiguration from the Device\n",
    "\n",
    "Let's try to get the current pinconfiguration of the device. "
   ]
  },
  {
   "cell_type": "code",
   "execution_count": 13,
   "id": "d6f65b85",
   "metadata": {},
   "outputs": [
    {
     "name": "stdout",
     "output_type": "stream",
     "text": [
      "{\"motXstp\": 2, \"motXdir\": 33, \"motYstp\": 27, \"motYdir\": 16, \"motZstp\": 12, \"motZdir\": 14, \"motAstp\": 22, \"motAdir\": 21, \"motEnable\": 13, \"ledArrPin\": 4, \"ledArrNum\": 25, \"digitalPin1\": 0, \"digitalPin2\": 0, \"analogPin1\": 0, \"analogPin2\": 0, \"analogPin3\": 0, \"laserPin1\": 17, \"laserPin2\": 4, \"laserPin3\": 15, \"dacFake1\": 0, \"dacFake2\": 0, \"identifier\": \"\", \"ssid\": \"\", \"PW\": \"\", \"PS3Mac\": \"\", \"PS4Mac\": \"\"}\n"
     ]
    }
   ],
   "source": [
    "# see if it's the right device\n",
    "ESP32.state.get_state()\n",
    "\n",
    "# load the pin config from the ESP32\n",
    "mConfig = ESP32.config.loadConfigDevice()\n",
    "print(json.dumps(mConfig))\n"
   ]
  },
  {
   "cell_type": "markdown",
   "id": "8a536ce0",
   "metadata": {},
   "source": [
    "# Clear config and add your own \n",
    "\n",
    "The returning dictionary `mConfig` holds all the pin-pairs of the different external devices which we can change now. It will only be written to the device permanently in the next stage!"
   ]
  },
  {
   "cell_type": "code",
   "execution_count": 14,
   "id": "e2f97425",
   "metadata": {},
   "outputs": [],
   "source": [
    "# reset the dictionary \n",
    "mConfig = dict.fromkeys(mConfig, 0)\n",
    "\n",
    "# modify some values\n",
    "mConfig[\"ledArrPin\"] = 15\n",
    "mConfig[\"ledArrNum\"] = 16\n",
    "\n",
    "mConfig[\"motXstp\"] = 2\n",
    "mConfig[\"motXdir\"] = 33\n",
    "\n",
    "mConfig[\"motYstp\"] = 27\n",
    "mConfig[\"motYdir\"] = 16\n",
    "\n",
    "mConfig[\"motZstp\"] = 12\n",
    "mConfig[\"motZdir\"] = 14\n",
    "\n",
    "mConfig[\"identifier\"] = \"UniEindhoven\"\n",
    "mConfig[\"ssid\"] = \"UC2\"\n",
    "mConfig[\"PW\"] = \"UC2\"\n"
   ]
  },
  {
   "cell_type": "markdown",
   "id": "5f3e4db3",
   "metadata": {},
   "source": [
    "# Write Pinconfiguration to the device\n",
    "\n",
    "The `mConfig` will be written and readout after reboot of the microcontroller. \n",
    "Everything should be zero except the entries you modified. "
   ]
  },
  {
   "cell_type": "code",
   "execution_count": 15,
   "id": "0ec5e529",
   "metadata": {},
   "outputs": [
    {
     "name": "stdout",
     "output_type": "stream",
     "text": [
      "{'motXstp': 2, 'motXdir': 33, 'motYstp': 27, 'motYdir': 16, 'motZstp': 12, 'motZdir': 14, 'motAstp': 0, 'motAdir': 0, 'motEnable': 0, 'ledArrPin': 15, 'ledArrNum': 16, 'digitalPin1': 0, 'digitalPin2': 0, 'analogPin1': 0, 'analogPin2': 0, 'analogPin3': 0, 'laserPin1': 0, 'laserPin2': 0, 'laserPin3': 0, 'dacFake1': 0, 'dacFake2': 0, 'identifier': '', 'ssid': '', 'PW': '', 'PS3Mac': '', 'PS4Mac': ''}\n"
     ]
    }
   ],
   "source": [
    "# see if it's the right device\n",
    "# now load the config to the ESP32\n",
    "ESP32.config.setConfigDevice(mConfig)\n",
    "ESP32.config.applyConfigDevice()\n",
    "\n",
    "# wait until the ESP reboots and identify the new config\n",
    "time.sleep(5)\n",
    "\n",
    "# see if it's the right device\n",
    "ESP32.state.get_state()\n",
    "mConfig = ESP32.config.loadConfigDevice()\n",
    "print(mConfig)"
   ]
  },
  {
   "cell_type": "markdown",
   "id": "ced099d5",
   "metadata": {},
   "source": [
    "# Reset Pin Configuration to the default value \n",
    "\n",
    "The pin configuration will be reset to the values upon flashing it. "
   ]
  },
  {
   "cell_type": "code",
   "execution_count": 16,
   "id": "e6db2308",
   "metadata": {},
   "outputs": [],
   "source": [
    "ESP32.config.resetConfigDevice()\n",
    "ESP32.config.applyConfigDevice()\n"
   ]
  },
  {
   "cell_type": "code",
   "execution_count": 17,
   "id": "d7c19e3d",
   "metadata": {},
   "outputs": [
    {
     "name": "stdout",
     "output_type": "stream",
     "text": [
      "{'motXstp': 2, 'motXdir': 33, 'motYstp': 27, 'motYdir': 16, 'motZstp': 12, 'motZdir': 14, 'motAstp': 22, 'motAdir': 21, 'motEnable': 13, 'ledArrPin': 32, 'ledArrNum': 25, 'digitalPin1': 0, 'digitalPin2': 0, 'analogPin1': 0, 'analogPin2': 0, 'analogPin3': 0, 'laserPin1': 17, 'laserPin2': 4, 'laserPin3': 15, 'dacFake1': 0, 'dacFake2': 0, 'identifier': '', 'ssid': '', 'PW': '', 'PS3Mac': '', 'PS4Mac': ''}\n"
     ]
    }
   ],
   "source": [
    "# wait until the ESP reboots and identify the new config\n",
    "time.sleep(5)\n",
    "\n",
    "# see if it's the right device\n",
    "ESP32.state.get_state()\n",
    "mConfig = ESP32.config.loadConfigDevice()\n",
    "print(mConfig)"
   ]
  },
  {
   "cell_type": "code",
   "execution_count": null,
   "id": "bec53e5d",
   "metadata": {},
   "outputs": [],
   "source": []
  }
 ],
 "metadata": {
  "kernelspec": {
   "display_name": "Python 3 (ipykernel)",
   "language": "python",
   "name": "python3"
  },
  "language_info": {
   "codemirror_mode": {
    "name": "ipython",
    "version": 3
   },
   "file_extension": ".py",
   "mimetype": "text/x-python",
   "name": "python",
   "nbconvert_exporter": "python",
   "pygments_lexer": "ipython3",
   "version": "3.8.5"
  },
  "vscode": {
   "interpreter": {
    "hash": "7e0b4c7bcc57fa321d9ed93045b19436fc14ee561979f5319cd55a29d7ed0d86"
   }
  }
 },
 "nbformat": 4,
 "nbformat_minor": 5
}

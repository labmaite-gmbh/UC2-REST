{
 "cells": [
  {
   "cell_type": "markdown",
   "id": "f9811eb6",
   "metadata": {},
   "source": [
    "# Documentation to flash the new ESP32 firmware\n",
    "\n",
    "This jupyter notebook will help you to go through the steps to flash the latest firmware precompiled by the Github actions and uploaded to the UC2-REST repository. \n",
    "\n",
    "First steps: \n",
    "- Connect your ESP32 to your USB port\n",
    "- Make sure you have installed the driver (https://learn.sparkfun.com/tutorials/how-to-install-ch340-drivers/all)\n",
    "- Check out the serial port (e.g. Windows => Devices, COMX, where X is a number)"
   ]
  },
  {
   "cell_type": "code",
   "execution_count": null,
   "id": "d7c175bf",
   "metadata": {},
   "outputs": [],
   "source": [
    "!pip install UC2-REST"
   ]
  },
  {
   "cell_type": "code",
   "execution_count": 1,
   "id": "c3c3e44b",
   "metadata": {},
   "outputs": [],
   "source": [
    "import uc2rest as uc2\n",
    "\n",
    "serialport = \"COM§\" # for Windows - change accordingly\n",
    "serialport = \"/dev/cu.SLAB_USBtoUART\" # for MAC change accordingly\n",
    "\n",
    "# optional: create an ESP32 objejct\n",
    "# ESP32 = uc2.UC2Client(serialport=serialport)\n",
    "\n"
   ]
  },
  {
   "cell_type": "code",
   "execution_count": 2,
   "id": "1468d7c1",
   "metadata": {},
   "outputs": [
    {
     "name": "stdout",
     "output_type": "stream",
     "text": [
      "Downloading Firmware\n",
      "Succesfully downloaded file: ./main.ino.bin\n",
      "Succesfully downloaded file: ./main.ino.bootloader.bin\n",
      "Succesfully downloaded file: ./main.ino.map\n",
      "Succesfully downloaded file: ./main.ino.partitions.bin\n",
      "Succesfully downloaded file: ./boot_app0.bin\n",
      "Using command esptool.py --chip esp32 --port /dev/cu.SLAB_USBtoUART --baud 921600 write_flash --flash_freq 80m --flash_mode dio --flash_size detect 0xe000 boot_app0.bin 0x1000 main.ino.bootloader.bin 0x8000 main.ino.partitions.bin 0x10000 main.ino.bin\n",
      "esptool.py v4.2.1\n",
      "Serial port /dev/cu.SLAB_USBtoUART\n",
      "Connecting..............\n",
      "Chip is ESP32-D0WD-V3 (revision 3)\n",
      "Features: WiFi, BT, Dual Core, 240MHz, VRef calibration in efuse, Coding Scheme None\n",
      "Crystal is 40MHz\n",
      "MAC: 34:86:5d:fc:4c:a0\n",
      "Uploading stub...\n",
      "Running stub...\n",
      "Stub running...\n",
      "Changing baud rate to 921600\n",
      "Changed.\n",
      "Configuring flash size...\n",
      "Auto-detected Flash size: 4MB\n",
      "Flash will be erased from 0x0000e000 to 0x0000ffff...\n",
      "Flash will be erased from 0x00001000 to 0x00005fff...\n",
      "Flash will be erased from 0x00008000 to 0x00008fff...\n",
      "Flash will be erased from 0x00010000 to 0x00189fff...\n",
      "Compressed 8192 bytes to 47...\n",
      "Writing at 0x0000e000... (100 %)\n",
      "Wrote 8192 bytes (47 compressed) at 0x0000e000 in 0.1 seconds (effective 475.9 kbit/s)...\n",
      "Hash of data verified.\n",
      "Flash params set to 0x022f\n",
      "Compressed 18880 bytes to 12992...\n",
      "Writing at 0x00001000... (100 %)\n",
      "Wrote 18880 bytes (12992 compressed) at 0x00001000 in 0.5 seconds (effective 310.6 kbit/s)...\n",
      "Hash of data verified.\n",
      "Compressed 3072 bytes to 119...\n",
      "Writing at 0x00008000... (100 %)\n",
      "Wrote 3072 bytes (119 compressed) at 0x00008000 in 0.1 seconds (effective 340.4 kbit/s)...\n",
      "Hash of data verified.\n",
      "Compressed 1547776 bytes to 1003633...\n",
      "Writing at 0x00010000... (1 %)\n",
      "Writing at 0x0001b17c... (3 %)\n",
      "Writing at 0x00025882... (4 %)\n",
      "Writing at 0x00030555... (6 %)\n",
      "Writing at 0x00040916... (8 %)\n",
      "Writing at 0x000466ce... (9 %)\n",
      "Writing at 0x0004c9d4... (11 %)\n",
      "Writing at 0x0005272a... (12 %)\n",
      "Writing at 0x000580e4... (14 %)\n",
      "Writing at 0x0005d7b9... (16 %)\n",
      "Writing at 0x00062f2f... (17 %)\n",
      "Writing at 0x000683d6... (19 %)\n",
      "Writing at 0x0006d81c... (20 %)\n",
      "Writing at 0x00072ab5... (22 %)\n",
      "Writing at 0x00077e38... (24 %)\n",
      "Writing at 0x0007d1f6... (25 %)\n",
      "Writing at 0x0008288e... (27 %)\n",
      "Writing at 0x000886c0... (29 %)\n",
      "Writing at 0x0008dce3... (30 %)\n",
      "Writing at 0x00093124... (32 %)\n",
      "Writing at 0x0009863f... (33 %)\n",
      "Writing at 0x0009e799... (35 %)\n",
      "Writing at 0x000a3d14... (37 %)\n",
      "Writing at 0x000a9797... (38 %)\n",
      "Writing at 0x000af5e5... (40 %)\n",
      "Writing at 0x000b4bf6... (41 %)\n",
      "Writing at 0x000ba677... (43 %)\n",
      "Writing at 0x000c03ac... (45 %)\n",
      "Writing at 0x000c59e9... (46 %)\n",
      "Writing at 0x000cb53a... (48 %)\n",
      "Writing at 0x000d156b... (50 %)\n",
      "Writing at 0x000d811e... (51 %)\n",
      "Writing at 0x000de6a6... (53 %)\n",
      "Writing at 0x000e3e01... (54 %)\n",
      "Writing at 0x000e9b9e... (56 %)\n",
      "Writing at 0x000ef25a... (58 %)\n",
      "Writing at 0x000f4ab8... (59 %)\n",
      "Writing at 0x000f9dfd... (61 %)\n",
      "Writing at 0x000ff5c0... (62 %)\n",
      "Writing at 0x001053fb... (64 %)\n",
      "Writing at 0x0010b785... (66 %)\n",
      "Writing at 0x00111393... (67 %)\n",
      "Writing at 0x001166ff... (69 %)\n",
      "Writing at 0x0011c50b... (70 %)\n",
      "Writing at 0x00121a88... (72 %)\n",
      "Writing at 0x00126ca3... (74 %)\n",
      "Writing at 0x0012c04e... (75 %)\n",
      "Writing at 0x00131469... (77 %)\n",
      "Writing at 0x0013698d... (79 %)\n",
      "Writing at 0x0013c374... (80 %)\n",
      "Writing at 0x00142181... (82 %)\n",
      "Writing at 0x00147b18... (83 %)\n",
      "Writing at 0x0014d841... (85 %)\n",
      "Writing at 0x00155ea9... (87 %)\n",
      "Writing at 0x0015e756... (88 %)\n",
      "Writing at 0x0016473c... (90 %)\n",
      "Writing at 0x00169a3c... (91 %)\n",
      "Writing at 0x001722c8... (93 %)\n",
      "Writing at 0x001778f3... (95 %)\n",
      "Writing at 0x0017d689... (96 %)\n",
      "Writing at 0x00182b67... (98 %)\n",
      "Writing at 0x001884c0... (100 %)\n",
      "Wrote 1547776 bytes (1003633 compressed) at 0x00010000 in 14.7 seconds (effective 840.6 kbit/s)...\n",
      "Hash of data verified.\n",
      "\n",
      "Leaving...\n",
      "Hard resetting via RTS pin...\n",
      "Firmware flashed\n",
      "Removing Firmware:main.ino.bin\n",
      "Removing Firmware:main.ino.bootloader.bin\n",
      "Removing Firmware:main.ino.map\n",
      "Removing Firmware:main.ino.partitions.bin\n",
      "Removing Firmware:boot_app0.bin\n"
     ]
    },
    {
     "data": {
      "text/plain": [
       "True"
      ]
     },
     "execution_count": 2,
     "metadata": {},
     "output_type": "execute_result"
    }
   ],
   "source": [
    "# create the updater object\n",
    "updater = uc2.updater(port=serialport)\n",
    "#updater = uc2.updater(port=\"COM4\", firmwarePath=\"./\")\n",
    "#updater = uc2.updater(ESP32=ESP32, firmwarePath=\"./\")\n",
    "\n",
    "# download the software \n",
    "updater.downloadFirmware()\n",
    "\n",
    "# flash firmware\n",
    "updater.flashFirmware()\n",
    "\n",
    "# remove firmware.bin after flashing\n",
    "updater.removeFirmware()\n",
    "\n",
    "\n"
   ]
  },
  {
   "cell_type": "markdown",
   "id": "3c469238",
   "metadata": {},
   "source": [
    "# Check if we run the latest firmware"
   ]
  },
  {
   "cell_type": "code",
   "execution_count": 3,
   "id": "509762b4",
   "metadata": {},
   "outputs": [
    {
     "name": "stderr",
     "output_type": "stream",
     "text": [
      "2022-10-22 23:14:39 DEBUG [UC2Client] /dev/cu.MALS\n",
      "2022-10-22 23:14:39 DEBUG [UC2Client] /dev/cu.SOC\n",
      "2022-10-22 23:14:39 DEBUG [UC2Client] /dev/cu.Bluetooth-Incoming-Port\n",
      "2022-10-22 23:14:39 DEBUG [UC2Client] /dev/cu.MiTrueWirelessEBsBasic2\n",
      "2022-10-22 23:14:39 DEBUG [UC2Client] /dev/cu.SLAB_USBtoUART\n",
      "2022-10-22 23:14:41 DEBUG [UC2Client] We are connected: True on port: /dev/cu.SLAB_USBtoUART\n"
     ]
    }
   ],
   "source": [
    "# optional: create an ESP32 objejct\n",
    "ESP32 = uc2.UC2Client(serialport=\"autodetect\")"
   ]
  },
  {
   "cell_type": "code",
   "execution_count": 4,
   "id": "f928e51b",
   "metadata": {},
   "outputs": [
    {
     "name": "stdout",
     "output_type": "stream",
     "text": [
      "{'identifier_name': 'UC2_Feather', 'identifier_id': 'V1.2', 'identifier_date': 'Sep  3 202205:33:18', 'identifier_author': 'BD', 'IDENTIFIER_NAME': ''}\n"
     ]
    }
   ],
   "source": [
    "_state = ESP32.state.get_state()\n",
    "print(_state)"
   ]
  },
  {
   "cell_type": "code",
   "execution_count": null,
   "id": "8e40f5c5",
   "metadata": {},
   "outputs": [],
   "source": []
  }
 ],
 "metadata": {
  "kernelspec": {
   "display_name": "Python 3 (ipykernel)",
   "language": "python",
   "name": "python3"
  },
  "language_info": {
   "codemirror_mode": {
    "name": "ipython",
    "version": 3
   },
   "file_extension": ".py",
   "mimetype": "text/x-python",
   "name": "python",
   "nbconvert_exporter": "python",
   "pygments_lexer": "ipython3",
   "version": "3.8.5"
  }
 },
 "nbformat": 4,
 "nbformat_minor": 5
}

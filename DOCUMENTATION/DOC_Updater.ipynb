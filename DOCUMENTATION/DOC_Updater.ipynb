{
 "cells": [
  {
   "cell_type": "markdown",
   "id": "f9811eb6",
   "metadata": {},
   "source": [
    "# Documentation to flash the new ESP32 firmware\n",
    "\n",
    "This jupyter notebook will help you to go through the steps to flash the latest firmware precompiled by the Github actions and uploaded to the UC2-REST repository. \n",
    "\n",
    "First steps: \n",
    "- Connect your ESP32 to your USB port\n",
    "- Make sure you have installed the driver (https://learn.sparkfun.com/tutorials/how-to-install-ch340-drivers/all)\n",
    "- Check out the serial port (e.g. Windows => Devices, COMX, where X is a number)"
   ]
  },
  {
   "cell_type": "code",
   "execution_count": null,
   "id": "d7c175bf",
   "metadata": {},
   "outputs": [],
   "source": [
    "!pip install UC2-REST"
   ]
  },
  {
   "cell_type": "code",
   "execution_count": 3,
   "id": "c3c3e44b",
   "metadata": {},
   "outputs": [
    {
     "name": "stderr",
     "output_type": "stream",
     "text": [
      "/opt/anaconda3/envs/imswitch39/lib/python3.9/site-packages/requests/__init__.py:109: RequestsDependencyWarning: urllib3 (1.26.9) or chardet (5.0.0)/charset_normalizer (2.0.12) doesn't match a supported version!\n",
      "  warnings.warn(\n"
     ]
    }
   ],
   "source": [
    "import uc2rest as uc2\n",
    "\n",
    "#serialport = \"COM3\" # for Windows - change accordingly\n",
    "#serialport = \"/dev/cu.SLAB_USBtoUART\" # for MAC change accordingly\n",
    "serialport = \"/dev/cu.wchusbserial110\" # for MAC change accordingly\n",
    "\n",
    "# optional: create an ESP32 objejct\n",
    "# ESP32 = uc2.UC2Client(serialport=serialport)\n",
    "\n"
   ]
  },
  {
   "cell_type": "code",
   "execution_count": 4,
   "id": "1468d7c1",
   "metadata": {},
   "outputs": [
    {
     "name": "stdout",
     "output_type": "stream",
     "text": [
      "We are checking for pre-built binaries on Github\n",
      "Latest version is: v0.0.2\n",
      "We are downloading the software from: UC2Rest.zip\n",
      "Downloading Firmware from https://api.github.com/repos/youseetoo/uc2-esp32/releases/latest\n"
     ]
    },
    {
     "name": "stderr",
     "output_type": "stream",
     "text": [
      "100% |########################################################################|\n"
     ]
    },
    {
     "name": "stdout",
     "output_type": "stream",
     "text": [
      "Done Downloading\n",
      "Succesfully downloaded file: /var/folders/4w/k4yhf14j7xsbp2jd85yk555r0000gn/T/uc2rest/UC2Rest.zip\n",
      "Unzipping files\n",
      "Done unzipping files:\n",
      "['UC2Rest.zip', 'main.ino.partitions.bin', 'main.ino.bin', 'main.ino.bootloader.bin', 'main.ino.elf', 'main.ino.map']\n",
      "Using command esptool.py --chip esp32 --port /dev/cu.wchusbserial110 --baud 921600 write_flash --flash_freq 80m --flash_mode dio --flash_size detect 0xe000 /var/folders/4w/k4yhf14j7xsbp2jd85yk555r0000gn/T/uc2rest/boot_app0.bin 0x1000 /var/folders/4w/k4yhf14j7xsbp2jd85yk555r0000gn/T/uc2rest/main.ino.bootloader.bin 0x8000 /var/folders/4w/k4yhf14j7xsbp2jd85yk555r0000gn/T/uc2rest/main.ino.partitions.bin 0x10000 /var/folders/4w/k4yhf14j7xsbp2jd85yk555r0000gn/T/uc2rest/main.ino.bin\n"
     ]
    },
    {
     "name": "stderr",
     "output_type": "stream",
     "text": [
      "usage: esptool write_flash [-h] [--erase-all]\n",
      "                           [--flash_freq {keep,80m,60m,48m,40m,30m,26m,24m,20m,16m,15m,12m}]\n",
      "                           [--flash_mode {keep,qio,qout,dio,dout}]\n",
      "                           [--flash_size {detect,keep,256KB,512KB,1MB,2MB,2MB-c1,4MB,4MB-c1,8MB,16MB,32MB,64MB,128MB}]\n",
      "                           [--spi-connection SPI_CONNECTION] [--no-progress]\n",
      "                           [--verify] [--encrypt]\n",
      "                           [--encrypt-files <address> <filename> [<address> <filename> ...]]\n",
      "                           [--ignore-flash-encryption-efuse-setting] [--force]\n",
      "                           [--compress | --no-compress]\n",
      "                           <address> <filename> [<address> <filename> ...]\n",
      "esptool write_flash: error: argument <address> <filename>: [Errno 2] No such file or directory: '/var/folders/4w/k4yhf14j7xsbp2jd85yk555r0000gn/T/uc2rest/boot_app0.bin'\n"
     ]
    },
    {
     "name": "stdout",
     "output_type": "stream",
     "text": [
      "Firmware flashed\n",
      "Removing Firmware:UC2Rest.zip\n"
     ]
    },
    {
     "data": {
      "text/plain": [
       "True"
      ]
     },
     "execution_count": 4,
     "metadata": {},
     "output_type": "execute_result"
    }
   ],
   "source": [
    "# create the updater object\n",
    "updater = uc2.updater(port=serialport)\n",
    "#updater = uc2.updater(port=\"COM4\", firmwarePath=\"./\")\n",
    "#updater = uc2.updater(ESP32=ESP32, firmwarePath=\"./\")\n",
    "\n",
    "# download the software \n",
    "updater.downloadFirmware()\n",
    "\n",
    "# flash firmware\n",
    "updater.flashFirmware()\n",
    "\n",
    "# remove firmware.bin after flashing\n",
    "updater.removeFirmware()\n",
    "\n",
    "\n"
   ]
  },
  {
   "cell_type": "markdown",
   "id": "3c469238",
   "metadata": {},
   "source": [
    "# Check if we run the latest firmware"
   ]
  },
  {
   "cell_type": "code",
   "execution_count": 3,
   "id": "509762b4",
   "metadata": {},
   "outputs": [
    {
     "name": "stderr",
     "output_type": "stream",
     "text": [
      "2022-10-22 23:14:39 DEBUG [UC2Client] /dev/cu.MALS\n",
      "2022-10-22 23:14:39 DEBUG [UC2Client] /dev/cu.SOC\n",
      "2022-10-22 23:14:39 DEBUG [UC2Client] /dev/cu.Bluetooth-Incoming-Port\n",
      "2022-10-22 23:14:39 DEBUG [UC2Client] /dev/cu.MiTrueWirelessEBsBasic2\n",
      "2022-10-22 23:14:39 DEBUG [UC2Client] /dev/cu.SLAB_USBtoUART\n",
      "2022-10-22 23:14:41 DEBUG [UC2Client] We are connected: True on port: /dev/cu.SLAB_USBtoUART\n"
     ]
    }
   ],
   "source": [
    "# optional: create an ESP32 objejct\n",
    "ESP32 = uc2.UC2Client(serialport=\"autodetect\")"
   ]
  },
  {
   "cell_type": "code",
   "execution_count": 4,
   "id": "f928e51b",
   "metadata": {},
   "outputs": [
    {
     "name": "stdout",
     "output_type": "stream",
     "text": [
      "{'identifier_name': 'UC2_Feather', 'identifier_id': 'V1.2', 'identifier_date': 'Sep  3 202205:33:18', 'identifier_author': 'BD', 'IDENTIFIER_NAME': ''}\n"
     ]
    }
   ],
   "source": [
    "_state = ESP32.state.get_state()\n",
    "print(_state)"
   ]
  },
  {
   "cell_type": "code",
   "execution_count": null,
   "id": "8e40f5c5",
   "metadata": {},
   "outputs": [],
   "source": []
  }
 ],
 "metadata": {
  "kernelspec": {
   "display_name": "Python 3.9.13 ('imswitch39')",
   "language": "python",
   "name": "python3"
  },
  "language_info": {
   "codemirror_mode": {
    "name": "ipython",
    "version": 3
   },
   "file_extension": ".py",
   "mimetype": "text/x-python",
   "name": "python",
   "nbconvert_exporter": "python",
   "pygments_lexer": "ipython3",
   "version": "3.9.13"
  },
  "vscode": {
   "interpreter": {
    "hash": "4455b128139e873919c7556eddf8448836b81873ec16c38976b247a4fd2a6886"
   }
  }
 },
 "nbformat": 4,
 "nbformat_minor": 5
}

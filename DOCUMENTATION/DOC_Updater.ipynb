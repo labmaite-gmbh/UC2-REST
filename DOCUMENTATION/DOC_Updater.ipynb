{
 "cells": [
  {
   "cell_type": "markdown",
   "id": "f9811eb6",
   "metadata": {},
   "source": [
    "# Documentation to flash the new ESP32 firmware\n",
    "\n",
    "This jupyter notebook will help you to go through the steps to flash the latest firmware precompiled by the Github actions and uploaded to the UC2-REST repository. \n",
    "\n",
    "First steps: \n",
    "- Connect your ESP32 to your USB port\n",
    "- Make sure you have installed the driver (https://learn.sparkfun.com/tutorials/how-to-install-ch340-drivers/all)\n",
    "- Check out the serial port (e.g. Windows => Devices, COMX, where X is a number)"
   ]
  },
  {
   "cell_type": "code",
   "execution_count": null,
   "id": "d7c175bf",
   "metadata": {},
   "outputs": [],
   "source": [
    "!pip install UC2-REST"
   ]
  },
  {
   "cell_type": "code",
   "execution_count": 1,
   "id": "c3c3e44b",
   "metadata": {},
   "outputs": [],
   "source": [
    "import uc2rest as uc2\n",
    "\n",
    "serialport = \"COM3\" # for Windows - change accordingly\n",
    "#serialport = \"/dev/cu.SLAB_USBtoUART\" # for MAC change accordingly\n",
    "\n",
    "# optional: create an ESP32 objejct\n",
    "# ESP32 = uc2.UC2Client(serialport=serialport)\n",
    "\n"
   ]
  },
  {
   "cell_type": "code",
   "execution_count": 2,
   "id": "1468d7c1",
   "metadata": {},
   "outputs": [
    {
     "name": "stdout",
     "output_type": "stream",
     "text": [
      "We are checking for pre-built binaries on Github\n",
      "Latest version is: v0.1.0.18\n",
      "We are downloading the software from: UC2Rest.zip\n",
      "Downloading Firmware from https://api.github.com/repos/openUC2/UC2-REST/releases/latest\n"
     ]
    },
    {
     "name": "stderr",
     "output_type": "stream",
     "text": [
      "100% |########################################################################|\n"
     ]
    },
    {
     "name": "stdout",
     "output_type": "stream",
     "text": [
      "Done Downloading\n",
      "Succesfully downloaded file: C:\\Users\\DIEDER~1\\AppData\\Local\\Temp\\uc2rest\\UC2Rest.zip\n",
      "Unzipping files\n",
      "Done unzipping files:\n",
      "['boot_app0.bin', 'main.ino.bin', 'main.ino.bootloader.bin', 'main.ino.elf', 'main.ino.map', 'main.ino.partitions.bin', 'UC2Rest.zip']\n",
      "Using command esptool.py --chip esp32 --port COM3 --baud 921600 write_flash --flash_freq 80m --flash_mode dio --flash_size detect 0xe000 C:\\Users\\DIEDER~1\\AppData\\Local\\Temp\\uc2rest\\boot_app0.bin 0x1000 C:\\Users\\DIEDER~1\\AppData\\Local\\Temp\\uc2rest\\main.ino.bootloader.bin 0x8000 C:\\Users\\DIEDER~1\\AppData\\Local\\Temp\\uc2rest\\main.ino.partitions.bin 0x10000 C:\\Users\\DIEDER~1\\AppData\\Local\\Temp\\uc2rest\\main.ino.bin\n",
      "\n",
      "We will try an alternative route:\n",
      "Using command python -m esptool --chip esp32 --port COM3 --baud 921600 write_flash --flash_freq 80m --flash_mode dio --flash_size detect 0xe000 C:\\Users\\DIEDER~1\\AppData\\Local\\Temp\\uc2rest\\boot_app0.bin 0x1000 C:\\Users\\DIEDER~1\\AppData\\Local\\Temp\\uc2rest\\main.ino.bootloader.bin 0x8000 C:\\Users\\DIEDER~1\\AppData\\Local\\Temp\\uc2rest\\main.ino.partitions.bin 0x10000 C:\\Users\\DIEDER~1\\AppData\\Local\\Temp\\uc2rest\\main.ino.bin\n",
      "\n",
      "We will try an alternative route:\n",
      "Using command esptool --chip esp32 --port COM3 --baud 921600 write_flash --flash_freq 80m --flash_mode dio --flash_size detect 0xe000 C:\\Users\\DIEDER~1\\AppData\\Local\\Temp\\uc2rest\\boot_app0.bin 0x1000 C:\\Users\\DIEDER~1\\AppData\\Local\\Temp\\uc2rest\\main.ino.bootloader.bin 0x8000 C:\\Users\\DIEDER~1\\AppData\\Local\\Temp\\uc2rest\\main.ino.partitions.bin 0x10000 C:\\Users\\DIEDER~1\\AppData\\Local\\Temp\\uc2rest\\main.ino.bin\n",
      "Firmware flashed\n",
      "Removing Firmware:UC2Rest.zip\n"
     ]
    },
    {
     "data": {
      "text/plain": [
       "True"
      ]
     },
     "execution_count": 2,
     "metadata": {},
     "output_type": "execute_result"
    }
   ],
   "source": [
    "# create the updater object\n",
    "updater = uc2.updater(port=serialport)\n",
    "#updater = uc2.updater(port=\"COM4\", firmwarePath=\"./\")\n",
    "#updater = uc2.updater(ESP32=ESP32, firmwarePath=\"./\")\n",
    "\n",
    "# download the software \n",
    "updater.downloadFirmware()\n",
    "\n",
    "# flash firmware\n",
    "updater.flashFirmware()\n",
    "\n",
    "# remove firmware.bin after flashing\n",
    "updater.removeFirmware()\n",
    "\n",
    "\n"
   ]
  },
  {
   "cell_type": "markdown",
   "id": "3c469238",
   "metadata": {},
   "source": [
    "# Check if we run the latest firmware"
   ]
  },
  {
   "cell_type": "code",
   "execution_count": 3,
   "id": "509762b4",
   "metadata": {},
   "outputs": [
    {
     "name": "stderr",
     "output_type": "stream",
     "text": [
      "2022-10-22 23:14:39 DEBUG [UC2Client] /dev/cu.MALS\n",
      "2022-10-22 23:14:39 DEBUG [UC2Client] /dev/cu.SOC\n",
      "2022-10-22 23:14:39 DEBUG [UC2Client] /dev/cu.Bluetooth-Incoming-Port\n",
      "2022-10-22 23:14:39 DEBUG [UC2Client] /dev/cu.MiTrueWirelessEBsBasic2\n",
      "2022-10-22 23:14:39 DEBUG [UC2Client] /dev/cu.SLAB_USBtoUART\n",
      "2022-10-22 23:14:41 DEBUG [UC2Client] We are connected: True on port: /dev/cu.SLAB_USBtoUART\n"
     ]
    }
   ],
   "source": [
    "# optional: create an ESP32 objejct\n",
    "ESP32 = uc2.UC2Client(serialport=\"autodetect\")"
   ]
  },
  {
   "cell_type": "code",
   "execution_count": 4,
   "id": "f928e51b",
   "metadata": {},
   "outputs": [
    {
     "name": "stdout",
     "output_type": "stream",
     "text": [
      "{'identifier_name': 'UC2_Feather', 'identifier_id': 'V1.2', 'identifier_date': 'Sep  3 202205:33:18', 'identifier_author': 'BD', 'IDENTIFIER_NAME': ''}\n"
     ]
    }
   ],
   "source": [
    "_state = ESP32.state.get_state()\n",
    "print(_state)"
   ]
  },
  {
   "cell_type": "code",
   "execution_count": null,
   "id": "8e40f5c5",
   "metadata": {},
   "outputs": [],
   "source": []
  }
 ],
 "metadata": {
  "kernelspec": {
   "display_name": "Python 3.9.13 ('imswitch')",
   "language": "python",
   "name": "python3"
  },
  "language_info": {
   "codemirror_mode": {
    "name": "ipython",
    "version": 3
   },
   "file_extension": ".py",
   "mimetype": "text/x-python",
   "name": "python",
   "nbconvert_exporter": "python",
   "pygments_lexer": "ipython3",
   "version": "3.9.13"
  },
  "vscode": {
   "interpreter": {
    "hash": "8f8c1b8c7e3e12c81a3b8e80014b4b32de212504e423c6421ed3c2e0e7e3ed81"
   }
  }
 },
 "nbformat": 4,
 "nbformat_minor": 5
}

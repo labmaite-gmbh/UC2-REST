{
 "cells": [
  {
   "cell_type": "markdown",
   "id": "7b18ec0a",
   "metadata": {},
   "source": [
    "<a href=\"https://colab.research.google.com/github/openUC2/UC2-REST/blob/master/DOCUMENTATION/DOC_UC2Client.ipynb\" target=\"_parent\"><img src=\"https://colab.research.google.com/assets/colab-badge.svg\" alt=\"Open in Colab\"/></a>"
   ]
  },
  {
   "attachments": {},
   "cell_type": "markdown",
   "id": "0456a946",
   "metadata": {},
   "source": [
    "# UC2 REST Tutorial\n",
    "\n",
    "Here we are going to teach you how to interact with the UC2 microcontroller and how you can add additional functionalities. \n",
    "\n",
    "In order to use the client in your python environment you need the following packages to be installed:\n",
    "\n",
    "(use the `!` to install it from within this jupyter notebook)\n",
    "```py\n",
    "!pip install UC2-REST\n",
    "```\n",
    "\n",
    "This code has been tested with the ESP32 WEMOS D1 R32 + CNC shield v3, where 3 stepper are connected to the board and an LED Matrix (WS2812, adafruit) is connected to the FEED pin. \n",
    "\n",
    "If you find an error, please report it [here](https://github.com/openUC2/UC2-REST/issues/new) \n",
    "\n",
    "## Use in your local Jupyter notebook \n",
    "\n",
    "### Step 1: Install Jupyter \n",
    "\n",
    "Install [Jupyter](http://jupyter.org/install) on your local machine.\n",
    "\n",
    "### Step 2: Download/Clone this repository\n",
    "\n",
    "E.g. `git clone https://github.com/openUC2/UC2-REST/`\n",
    "\n",
    "### Step 3: Open this notebook in Jupyter \n",
    "\n",
    "open a terminal and change into this folder e.g.:\n",
    "\n",
    "```\n",
    "cd YOURDOWNLOADPATH/UC2-REST/DOCUMENTATION/\n",
    "jupyter notebook \n",
    "```\n",
    "\n",
    "Open the notebook from the jupyter fileexplorer. \n",
    "\n",
    "## Use this in Google COLAB \n",
    "\n",
    "You can use the UC2-Board without extra-complicated installation routines. For this, you need to link your Jupyter Notebook to the Colab plugin. From the official documentation ([here](https://research.google.com/colaboratory/local-runtimes.html)), please follow these steps: \n",
    "\n",
    "In order to allow Colaboratory to connect to your locally running Jupyter server, you'll need to perform the following steps.\n",
    "\n",
    "### Step 1: Install Jupyter\n",
    "Install [Jupyter](http://jupyter.org/install) on your local machine.\n",
    "\n",
    "### Step 2: Install and enable the jupyter_http_over_ws jupyter extension (one-time)\n",
    "The jupyter_http_over_ws extension is authored by the Colaboratory team and available on GitHub.\n",
    "\n",
    "```\n",
    "pip install jupyter_http_over_ws\n",
    "jupyter serverextension enable --py jupyter_http_over_ws\n",
    "```\n",
    "\n",
    "### Step 3: Start server and authenticate\n",
    "\n",
    "New notebook servers are started normally, though you will need to set a flag to explicitly trust WebSocket connections from the Colaboratory frontend.\n",
    "\n",
    "```\n",
    "jupyter notebook \\\n",
    "  --NotebookApp.allow_origin='https://colab.research.google.com' \\\n",
    "  --port=8888 \\\n",
    "  --NotebookApp.port_retries=0\n",
    "```\n",
    "\n",
    "Once the server has started, it will print a message with the initial backend URL used for authentication. Make a copy of this URL as you'll need to provide this in the next step.\n",
    "\n",
    "### Step 4: Connect to the local runtime\n",
    "\n",
    "In Colaboratory, click the \"Connect\" button and select \"Connect to local runtime...\". Enter the URL from the previous step in the dialog that appears and click the \"Connect\" button. After this, you should now be connected to your local runtime.\n",
    "\n"
   ]
  },
  {
   "cell_type": "code",
   "execution_count": 1,
   "id": "37e5e2f1",
   "metadata": {},
   "outputs": [
    {
     "name": "stdout",
     "output_type": "stream",
     "text": [
      "Requirement already satisfied: UC2-REST in /Users/bene/Dropbox/Dokumente/Promotion/PROJECTS/UC2-REST (develop)\n",
      "Requirement already satisfied: numpy in /opt/anaconda3/envs/imswitch39/lib/python3.9/site-packages (from UC2-REST) (1.22.4)\n",
      "Requirement already satisfied: requests in /opt/anaconda3/envs/imswitch39/lib/python3.9/site-packages (from UC2-REST) (2.28.1)\n",
      "Requirement already satisfied: pyserial in /opt/anaconda3/envs/imswitch39/lib/python3.9/site-packages (from UC2-REST) (3.5)\n",
      "Requirement already satisfied: esptool in /opt/anaconda3/envs/imswitch39/lib/python3.9/site-packages (from UC2-REST) (4.2.1)\n",
      "Requirement already satisfied: progressbar2 in /opt/anaconda3/envs/imswitch39/lib/python3.9/site-packages (from UC2-REST) (4.2.0)\n",
      "Requirement already satisfied: pillow in /opt/anaconda3/envs/imswitch39/lib/python3.9/site-packages (from UC2-REST) (9.1.1)\n",
      "Requirement already satisfied: cryptography>=2.1.4 in /opt/anaconda3/envs/imswitch39/lib/python3.9/site-packages (from esptool->UC2-REST) (38.0.3)\n",
      "Requirement already satisfied: bitstring>=3.1.6 in /opt/anaconda3/envs/imswitch39/lib/python3.9/site-packages (from esptool->UC2-REST) (3.1.9)\n",
      "Requirement already satisfied: reedsolo<=1.5.4,>=1.5.3 in /opt/anaconda3/envs/imswitch39/lib/python3.9/site-packages (from esptool->UC2-REST) (1.5.4)\n",
      "Requirement already satisfied: ecdsa>=0.16.0 in /opt/anaconda3/envs/imswitch39/lib/python3.9/site-packages (from esptool->UC2-REST) (0.18.0)\n",
      "Requirement already satisfied: python-utils>=3.0.0 in /opt/anaconda3/envs/imswitch39/lib/python3.9/site-packages (from progressbar2->UC2-REST) (3.4.5)\n",
      "Requirement already satisfied: certifi>=2017.4.17 in /opt/anaconda3/envs/imswitch39/lib/python3.9/site-packages (from requests->UC2-REST) (2022.12.7)\n",
      "Requirement already satisfied: urllib3<1.27,>=1.21.1 in /opt/anaconda3/envs/imswitch39/lib/python3.9/site-packages (from requests->UC2-REST) (1.26.13)\n",
      "Requirement already satisfied: charset-normalizer<3,>=2 in /opt/anaconda3/envs/imswitch39/lib/python3.9/site-packages (from requests->UC2-REST) (2.1.1)\n",
      "Requirement already satisfied: idna<4,>=2.5 in /opt/anaconda3/envs/imswitch39/lib/python3.9/site-packages (from requests->UC2-REST) (3.4)\n",
      "Requirement already satisfied: cffi>=1.12 in /opt/anaconda3/envs/imswitch39/lib/python3.9/site-packages (from cryptography>=2.1.4->esptool->UC2-REST) (1.15.1)\n",
      "Requirement already satisfied: six>=1.9.0 in /opt/anaconda3/envs/imswitch39/lib/python3.9/site-packages (from ecdsa>=0.16.0->esptool->UC2-REST) (1.16.0)\n",
      "Requirement already satisfied: pycparser in /opt/anaconda3/envs/imswitch39/lib/python3.9/site-packages (from cffi>=1.12->cryptography>=2.1.4->esptool->UC2-REST) (2.21)\n"
     ]
    }
   ],
   "source": [
    "# Install the latest library\n",
    "!pip install UC2-REST # only if you have not installed it already"
   ]
  },
  {
   "cell_type": "markdown",
   "id": "623bc1e4",
   "metadata": {},
   "source": [
    "## Organize all imports\n",
    "\n",
    "First of all we need to import the `ESP32Client`. Since it is not yet a standalone pip package, we have to do that via a relaitve import, meaning that the file is in the same folder as this Jupyter Notebook"
   ]
  },
  {
   "cell_type": "code",
   "execution_count": 2,
   "id": "c5e2f6da",
   "metadata": {},
   "outputs": [],
   "source": [
    "%load_ext autoreload \n",
    "%autoreload 2\n",
    "\n",
    "\n",
    "import uc2rest\n",
    "import time\n",
    "import numpy as np"
   ]
  },
  {
   "attachments": {},
   "cell_type": "markdown",
   "id": "c721ba12",
   "metadata": {},
   "source": [
    "# Flashing the Firmware\n",
    "\n",
    "You have three options to get the latest firmware:\n",
    "\n",
    "1. Use the Web-based update tool which you can find here: https://youseetoo.github.io/\n",
    "2. Use the Python firmware update tool that is also hosted in this repository; Drawback: It seems to not work consistently accross different Windows versions. \n",
    "3. Download/Clone this repo and compile it yourself to finally upload it to your MCU"
   ]
  },
  {
   "cell_type": "markdown",
   "id": "8db1ee0c",
   "metadata": {},
   "source": [
    "# Connecting to the ESP32 via USB\n",
    "\n",
    "Now we want to initiliaze the USB-serial connection. Therefore, connect the ESP32 to your computer using a data (!) USB cable and establish the connection. You can leave the port as \"unknown\" as the portfinder may identify the ESP.\n",
    "\n",
    "**Important:** Close all applications that may be connected to the ESP (e.g. Arduino Serial Plotter)\n",
    "\n",
    "**IMPORTANT:** Install the USB serial driver for the ESP32: https://learn.sparkfun.com/tutorials/how-to-install-ch340-drivers/all"
   ]
  },
  {
   "cell_type": "code",
   "execution_count": 5,
   "id": "caadeb4f",
   "metadata": {},
   "outputs": [
    {
     "name": "stderr",
     "output_type": "stream",
     "text": [
      "2022-12-16 11:32:48 ERROR [UC2Client] [Errno 2] could not open port unknown: [Errno 2] No such file or directory: 'unknown'\n",
      "2022-12-16 11:32:48 DEBUG [UC2Client] /dev/cu.Bluetooth-Incoming-Port\n",
      "2022-12-16 11:32:48 DEBUG [UC2Client] /dev/cu.usbserial-0001\n",
      "2022-12-16 11:32:53 DEBUG [UC2Client] We are connected: True on port: /dev/cu.usbserial-0001\n",
      "2022-12-16 11:32:53 DEBUG [UC2Client] Using API version 2\n",
      "2022-12-16 11:32:53 DEBUG [UC2Client] Attention, lasers are on channels 1,2,3\n"
     ]
    },
    {
     "name": "stdout",
     "output_type": "stream",
     "text": [
      "loaded config is valid\n"
     ]
    }
   ],
   "source": [
    "ESP32 = uc2rest.UC2Client(serialport=\"unknown\")\n",
    "\n",
    "# setting debug output of the serial to true - all message will be printed\n",
    "ESP32.serial.DEBUG=False"
   ]
  },
  {
   "attachments": {},
   "cell_type": "markdown",
   "id": "9e177d30",
   "metadata": {},
   "source": [
    "# Test the REST via Serial"
   ]
  },
  {
   "attachments": {},
   "cell_type": "markdown",
   "id": "835ce39c",
   "metadata": {},
   "source": [
    "We can test the serial and check which firmware was uploaded. Most commands return a dictionary, hence you can retrieve the value by accessing the `dict`"
   ]
  },
  {
   "cell_type": "code",
   "execution_count": 8,
   "id": "7a89aaa2",
   "metadata": {},
   "outputs": [
    {
     "name": "stdout",
     "output_type": "stream",
     "text": [
      "{'steppers': [{'stepperid': 0, 'dir': 0, 'step': 0, 'enable': 12, 'dir_inverted': False, 'step_inverted': False, 'enable_inverted': True, 'speed': 0, 'speedmax': 200000, 'max_pos': 0, 'min_pos': 0, 'position': 0}, {'stepperid': 1, 'dir': 16, 'step': 26, 'enable': 12, 'dir_inverted': False, 'step_inverted': False, 'enable_inverted': True, 'speed': 0, 'speedmax': 200000, 'max_pos': 0, 'min_pos': 0, 'position': 0}, {'stepperid': 2, 'dir': 27, 'step': 25, 'enable': 12, 'dir_inverted': False, 'step_inverted': False, 'enable_inverted': True, 'speed': 0, 'speedmax': 200000, 'max_pos': 0, 'min_pos': 0, 'position': 0}, {'stepperid': 3, 'dir': 14, 'step': 17, 'enable': 12, 'dir_inverted': False, 'step_inverted': False, 'enable_inverted': True, 'speed': 0, 'speedmax': 200000, 'max_pos': 0, 'min_pos': 0, 'position': 0}]}\n",
      "{'identifier_name': 'UC2_Feather', 'identifier_id': 'V2.0', 'identifier_date': 'Dec 15 202223:22:22', 'identifier_author': 'BD', 'IDENTIFIER_NAME': 'uc2-esp', 'configIsSet': False}\n",
      "The Firmware version is: Dec 15 202223:22:22\n"
     ]
    }
   ],
   "source": [
    "# get motor response\n",
    "test_cmd = \"{'task': '/motor_get'}\"\n",
    "ESP32.serial.writeSerial(test_cmd)\n",
    "cmd_return = ESP32.serial.readSerial()\n",
    "print(cmd_return)\n",
    "\n",
    "# get state response\n",
    "test_cmd = \"{'task': '/state_get'}\"\n",
    "ESP32.serial.writeSerial(test_cmd)\n",
    "cmd_return = ESP32.serial.readSerial()\n",
    "print(cmd_return)\n",
    "\n",
    "print(\"The Firmware version is: \"+str(cmd_return['identifier_date']))"
   ]
  },
  {
   "attachments": {},
   "cell_type": "markdown",
   "id": "290cfeca",
   "metadata": {},
   "source": [
    "# Modules \n",
    "\n",
    "Different modules can be activated/deactivated. "
   ]
  },
  {
   "cell_type": "code",
   "execution_count": 10,
   "id": "a3c9baa8",
   "metadata": {},
   "outputs": [
    {
     "name": "stdout",
     "output_type": "stream",
     "text": [
      "{'led': 1, 'motor': 1, 'slm': 0, 'home': 0, 'analogin': 0, 'pid': 0, 'laser': 1, 'dac': 0, 'analogout': 0, 'digitalout': 0, 'digitalin': 1, 'scanner': 0, 'wifi': 0}\n",
      "\u0000\u0000\n",
      "The activated modules are: \u0000\u0000\n"
     ]
    }
   ],
   "source": [
    "''' ################\n",
    "MODULES\n",
    "################'''\n",
    "mModules = ESP32.modules.get_default_modules()\n",
    "print(mModules)\n",
    "mModulesDevice = ESP32.modules.get_modules()\n",
    "print(mModulesDevice)\n",
    "ESP32.modules.set_modules(mModules)\n",
    "# wait for reboot\n",
    "time.sleep(2)\n",
    "mModulesDevice = ESP32.modules.get_modules()\n",
    "print(\"The activated modules are: \"+mModulesDevice)\n"
   ]
  },
  {
   "attachments": {},
   "cell_type": "markdown",
   "id": "e492c7df",
   "metadata": {},
   "source": [
    "# Moving the motor \n",
    "\n",
    "The following code snippets will help you moving the motors (XYZ) continously or at a known number of `steps` at a certain `speed` level (all measured in steps/s). \n",
    "\n",
    "The additional attributs \n",
    "- `is_blocking` states if the action is performed in the background or not; if `False` no return message will be provided\n",
    "- `is_absolute` says if we go relative or absolute steps \n",
    "- `is_enabled` says if we want to \"unpower\" the motors once we are done (prevent overheating)\n",
    "\n",
    "\n",
    "Once the microcontroller (ESP32) is flashed, the pin definitions are not set yet. We have to do that manually using a customized dictionary and write that to the MCU.\n",
    "\n",
    "**In general:**\n",
    " The axes are:\n",
    " A => 0\n",
    " X => 1\n",
    " Y => 2\n",
    " Z => 3"
   ]
  },
  {
   "cell_type": "code",
   "execution_count": 11,
   "id": "4ced5633",
   "metadata": {},
   "outputs": [
    {
     "data": {
      "text/plain": [
       "[{'stepperid': 0,\n",
       "  'dir': 0,\n",
       "  'step': 0,\n",
       "  'enable': 12,\n",
       "  'dir_inverted': False,\n",
       "  'step_inverted': False,\n",
       "  'enable_inverted': True,\n",
       "  'speed': 0,\n",
       "  'speedmax': 200000,\n",
       "  'max_pos': 0,\n",
       "  'min_pos': 0,\n",
       "  'position': 0},\n",
       " {'stepperid': 1,\n",
       "  'dir': 16,\n",
       "  'step': 26,\n",
       "  'enable': 12,\n",
       "  'dir_inverted': False,\n",
       "  'step_inverted': False,\n",
       "  'enable_inverted': True,\n",
       "  'speed': 0,\n",
       "  'speedmax': 200000,\n",
       "  'max_pos': 0,\n",
       "  'min_pos': 0,\n",
       "  'position': 0},\n",
       " {'stepperid': 2,\n",
       "  'dir': 27,\n",
       "  'step': 25,\n",
       "  'enable': 12,\n",
       "  'dir_inverted': False,\n",
       "  'step_inverted': False,\n",
       "  'enable_inverted': True,\n",
       "  'speed': 0,\n",
       "  'speedmax': 200000,\n",
       "  'max_pos': 0,\n",
       "  'min_pos': 0,\n",
       "  'position': 0},\n",
       " {'stepperid': 3,\n",
       "  'dir': 14,\n",
       "  'step': 17,\n",
       "  'enable': 12,\n",
       "  'dir_inverted': False,\n",
       "  'step_inverted': False,\n",
       "  'enable_inverted': True,\n",
       "  'speed': 0,\n",
       "  'speedmax': 200000,\n",
       "  'max_pos': 0,\n",
       "  'min_pos': 0,\n",
       "  'position': 0}]"
      ]
     },
     "execution_count": 11,
     "metadata": {},
     "output_type": "execute_result"
    }
   ],
   "source": [
    "if 0: # we don't want to change the configuration now! \n",
    "    # setup all motors at once \n",
    "    print(ESP32.motor.settingsdict)\n",
    "\n",
    "    # Remember => 0 = A, 1 = X, 2 = Y, 3 = Z w.r.t. the axises of the microscope\n",
    "\n",
    "    ESP32.motor.settingsdict[\"motor\"][\"steppers\"][0][\"dir\"]=18\n",
    "    ESP32.motor.settingsdict[\"motor\"][\"steppers\"][0][\"step\"]=19\n",
    "    ESP32.motor.settingsdict[\"motor\"][\"steppers\"][0][\"enable\"]=12\n",
    "\n",
    "    ESP32.motor.settingsdict[\"motor\"][\"steppers\"][1][\"dir\"]=16\n",
    "    ESP32.motor.settingsdict[\"motor\"][\"steppers\"][1][\"step\"]=26\n",
    "    ESP32.motor.settingsdict[\"motor\"][\"steppers\"][2][\"dir\"]=27\n",
    "\n",
    "    ESP32.motor.settingsdict[\"motor\"][\"steppers\"][2][\"step\"]=25\n",
    "    ESP32.motor.settingsdict[\"motor\"][\"steppers\"][3][\"dir\"]=14\n",
    "    ESP32.motor.settingsdict[\"motor\"][\"steppers\"][3][\"step\"]=17\n",
    "\n",
    "    ESP32.motor.settingsdict[\"motor\"][\"steppers\"][1][\"enable\"]=12\n",
    "    ESP32.motor.settingsdict[\"motor\"][\"steppers\"][2][\"enable\"]=12\n",
    "    ESP32.motor.settingsdict[\"motor\"][\"steppers\"][3][\"enable\"]=12\n",
    "    ESP32.motor.set_motors(ESP32.motor.settingsdict)\n",
    "\n",
    "# check if we set the right parameters\n",
    "ESP32.motor.get_motors()\n"
   ]
  },
  {
   "cell_type": "code",
   "execution_count": 12,
   "id": "d6f65b85",
   "metadata": {},
   "outputs": [
    {
     "name": "stdout",
     "output_type": "stream",
     "text": [
      "{'stepperid': 1, 'dir': 16, 'step': 26, 'enable': 12, 'dir_inverted': False, 'step_inverted': False, 'enable_inverted': True, 'speed': 0, 'speedmax': 200000, 'max_pos': 0, 'min_pos': 0, 'position': 0}\n"
     ]
    }
   ],
   "source": [
    "if 0: # we don't want to change the configuration now\n",
    "    # OR setup motors individually (according to WEMOS R32 D1)\n",
    "    ESP32.motor.set_motor(stepperid = 1, position = 0, stepPin = 26, dirPin=16, enablePin=12, maxPos=None, minPos=None, acceleration=None, isEnable=1)\n",
    "    ESP32.motor.set_motor(stepperid = 2, position = 0, stepPin = 25, dirPin=27, enablePin=12, maxPos=None, minPos=None, acceleration=None, isEnable=1)\n",
    "    ESP32.motor.set_motor(stepperid = 3, position = 0, stepPin = 17, dirPin=14, enablePin=12, maxPos=None, minPos=None, acceleration=None, isEnable=1)\n",
    "    ESP32.motor.set_motor(stepperid = 0, position = 0, stepPin = 19, dirPin=18, enablePin=12, maxPos=None, minPos=None, acceleration=None, isEnable=1)\n",
    "\n",
    "# get individual motors\n",
    "print(ESP32.motor.get_motor(axis = 1))\n"
   ]
  },
  {
   "cell_type": "markdown",
   "id": "cb34e939",
   "metadata": {},
   "source": [
    "We can also setup individual motor settings like so:"
   ]
  },
  {
   "cell_type": "code",
   "execution_count": 13,
   "id": "2c95f5f1",
   "metadata": {},
   "outputs": [],
   "source": [
    "ESP32.motor.set_motor_currentPosition(axis=0, currentPosition=10000)\n",
    "ESP32.motor.set_motor_acceleration(axis=0, acceleration=10000)\n",
    "ESP32.motor.set_motor_enable(is_enable=1)\n",
    "ESP32.motor.set_direction(axis=1, sign=1, timeout=1)\n",
    "ESP32.motor.set_position(axis=1, position=0, timeout=1)\n",
    "\n",
    "# wait to settle\n",
    "time.sleep(2)"
   ]
  },
  {
   "cell_type": "markdown",
   "id": "7c7033d2",
   "metadata": {},
   "source": [
    "## Moving the motors\n",
    "\n",
    "With the below code, we can test the motors spinning or not"
   ]
  },
  {
   "cell_type": "code",
   "execution_count": 15,
   "id": "e2f97425",
   "metadata": {},
   "outputs": [
    {
     "name": "stdout",
     "output_type": "stream",
     "text": [
      "[0 0 0 0]\n",
      "[    0 18418  9418    -1]\n"
     ]
    }
   ],
   "source": [
    "position1 = ESP32.motor.get_position(timeout=1)\n",
    "print(position1)\n",
    "ESP32.motor.move_x(steps=10000, speed=10000, is_blocking=True)\n",
    "ESP32.motor.move_y(steps=1000, speed=1000, is_blocking=True)\n",
    "ESP32.motor.move_z(steps=1000, speed=1000, is_blocking=True)\n",
    "ESP32.motor.move_t(steps=1000, speed=1000)\n",
    "ESP32.motor.move_xyzt(steps=(0,10000,10000,0), speed=10000, is_blocking=True)\n",
    "ESP32.motor.move_xyzt(steps=(0,0,0,0), speed=10000, is_absolute=True, is_blocking=True)\n",
    "ESP32.motor.move_forever(speed=(0,100,0,0), is_stop=False)\n",
    "time.sleep(1)\n",
    "ESP32.motor.move_forever(speed=(0,0,0,0), is_stop=True)\n",
    "\n",
    "position2 = ESP32.motor.get_position(timeout=1)\n",
    "print(position2)"
   ]
  },
  {
   "attachments": {},
   "cell_type": "markdown",
   "id": "0d9149e2",
   "metadata": {},
   "source": [
    "# Drive the motor in a scanning grid"
   ]
  },
  {
   "cell_type": "code",
   "execution_count": null,
   "id": "0f076f49",
   "metadata": {},
   "outputs": [],
   "source": [
    "dDist = 1000\n",
    "speed = 20000\n",
    "nDist = 4\n",
    "\n",
    "# test Motor in scanning mode\n",
    "ESP32.motor.move_xyzt(steps=(0,0,0,0), speed=speed, is_absolute = True, is_blocking=True)\n",
    "\n",
    "for ix in range(nDist):\n",
    "    for iy in range(nDist):\n",
    "        if ix%2==0:\n",
    "            iy=nDist-iy\n",
    "        ESP32.motor.move_xyzt(steps=(0,ix*dDist,iy*dDist,0), speed=speed, is_absolute = True, is_blocking=True)\n",
    "ESP32.motor.move_xyzt(steps=(0,nDist*dDist,nDist*dDist,0), speed=speed, is_absolute = True, is_blocking=True)\n",
    "ESP32.motor.move_xyzt(steps=(0,0,0,0), speed=speed, is_absolute = True, is_blocking=True)\n"
   ]
  },
  {
   "cell_type": "markdown",
   "id": "ced099d5",
   "metadata": {},
   "source": [
    "# ESP32 State"
   ]
  },
  {
   "cell_type": "code",
   "execution_count": 17,
   "id": "e6db2308",
   "metadata": {},
   "outputs": [
    {
     "name": "stdout",
     "output_type": "stream",
     "text": [
      "{'identifier_name': 'UC2_Feather', 'identifier_id': 'V2.0', 'identifier_date': 'Dec 15 202223:22:22', 'identifier_author': 'BD', 'IDENTIFIER_NAME': 'uc2-esp', 'configIsSet': False}\n"
     ]
    }
   ],
   "source": [
    "# test state\n",
    "_state = ESP32.state.get_state()\n",
    "print(_state)\n",
    "ESP32.state.set_state(debug=False)\n",
    "_mode = ESP32.state.isControllerMode()\n",
    "print(_mode)\n",
    "ESP32.state.espRestart() # restarts the microcontroller\n",
    "time.sleep(5)\n",
    "ESP32.state.setControllerMode(isController=True)\n",
    "_busy = ESP32.state.isBusy()\n",
    "print(_busy)\n",
    "_state = ESP32.state.get_state()\n",
    "print(_state)\n",
    "_state = ESP32.state.get_state()\n",
    "print(_state)\n"
   ]
  },
  {
   "cell_type": "markdown",
   "id": "0d72ffa0",
   "metadata": {},
   "source": [
    "# LED Matrix\n",
    "\n",
    "If the LED matrix is connected to pin 4 and has 16 individual WS2810 LEds, you can set it up like so"
   ]
  },
  {
   "cell_type": "code",
   "execution_count": 21,
   "id": "7ecd5211",
   "metadata": {},
   "outputs": [
    {
     "name": "stderr",
     "output_type": "stream",
     "text": [
      "2022-12-16 11:46:43 DEBUG [UC2Client] Setting LED Pattern (full): (255, 255, 255)\n"
     ]
    },
    {
     "name": "stdout",
     "output_type": "stream",
     "text": [
      "The LED pin is: {'ledArrNum': 64, 'ledArrPin': 4}\n"
     ]
    },
    {
     "name": "stderr",
     "output_type": "stream",
     "text": [
      "2022-12-16 11:46:43 DEBUG [UC2Client] Setting LED Pattern (full): (0, 0, 0)\n"
     ]
    },
    {
     "data": {
      "text/plain": [
       "{'led_array': {'isDone': 0}}"
      ]
     },
     "execution_count": 21,
     "metadata": {},
     "output_type": "execute_result"
    }
   ],
   "source": [
    "# test LED\n",
    "print(\"The LED pin is: \"+str(ESP32.led.get_ledpin()))\n",
    "\n",
    "ESP32.led.send_LEDMatrix_full(intensity=(255, 255, 255))\n",
    "time.sleep(0.5)\n",
    "ESP32.led.send_LEDMatrix_full(intensity=(0, 0, 0))"
   ]
  },
  {
   "cell_type": "code",
   "execution_count": 22,
   "id": "6970eaea",
   "metadata": {},
   "outputs": [
    {
     "name": "stderr",
     "output_type": "stream",
     "text": [
      "2022-12-16 11:49:29 DEBUG [UC2Client] Setting LED Pattern (array) \n",
      "2022-12-16 11:49:29 DEBUG [UC2Client] Setting LED Pattern (array) \n",
      "2022-12-16 11:49:30 DEBUG [UC2Client] Setting LED Pattern (array) \n",
      "2022-12-16 11:49:30 DEBUG [UC2Client] Setting LED Pattern (array) \n",
      "2022-12-16 11:49:30 DEBUG [UC2Client] Setting LED Pattern (array) \n",
      "2022-12-16 11:49:30 DEBUG [UC2Client] Setting LED Pattern (array) \n",
      "2022-12-16 11:49:31 DEBUG [UC2Client] Setting LED Pattern (array) \n",
      "2022-12-16 11:49:31 DEBUG [UC2Client] Setting LED Pattern (array) \n",
      "2022-12-16 11:49:31 DEBUG [UC2Client] Setting LED Pattern (array) \n",
      "2022-12-16 11:49:32 DEBUG [UC2Client] Setting LED Pattern (array) \n",
      "2022-12-16 11:49:32 DEBUG [UC2Client] Setting LED Pattern (single) \n"
     ]
    },
    {
     "data": {
      "text/plain": [
       "{'led_array': {'isDone': 0}}"
      ]
     },
     "execution_count": 22,
     "metadata": {},
     "output_type": "execute_result"
    }
   ],
   "source": [
    "# display random pattern\n",
    "for i in range(10):\n",
    "    led_pattern = np.random.randint(0,55, (25,3))\n",
    "    ESP32.led.send_LEDMatrix_array(led_pattern=led_pattern,timeout=1)\n",
    "\n",
    "ESP32.led.send_LEDMatrix_single(indexled=0, intensity=(0, 255, 0))"
   ]
  },
  {
   "cell_type": "code",
   "execution_count": 23,
   "id": "5f0e5c88",
   "metadata": {},
   "outputs": [
    {
     "name": "stderr",
     "output_type": "stream",
     "text": [
      "2022-12-16 11:50:01 DEBUG [UC2Client] Setting LED Pattern (array) \n",
      "2022-12-16 11:50:03 DEBUG [UC2Client] Setting LED Pattern (array) \n"
     ]
    },
    {
     "data": {
      "text/plain": [
       "{'led_array': {'isDone': 0}}"
      ]
     },
     "execution_count": 23,
     "metadata": {},
     "output_type": "execute_result"
    }
   ],
   "source": [
    "#%% left half / right half\n",
    "led_pattern = np.zeros((25,3))\n",
    "list_left = (0,1,2,3,4,5,9,10,11,12,13,14,15,16,17)\n",
    "list_right = (0,5,6,7,8,9,18,19,20,21,22,23,24)\n",
    "led_pattern[list_left,0] = 255\n",
    "led_pattern[list_right,1] = 255\n",
    "ESP32.led.send_LEDMatrix_array(led_pattern=led_pattern, timeout=1)\n",
    "time.sleep(1)\n",
    "ESP32.led.send_LEDMatrix_array(led_pattern=led_pattern*0, timeout=1)\n"
   ]
  },
  {
   "cell_type": "markdown",
   "id": "a0ad184a",
   "metadata": {},
   "source": [
    "# Wifi\n",
    "This feature will be implemented soon. It will help you to connect to a common Wifi hotspot or create an access point "
   ]
  },
  {
   "cell_type": "code",
   "execution_count": 24,
   "id": "d79b1629",
   "metadata": {},
   "outputs": [
    {
     "data": {
      "text/plain": [
       "{'ssid': ['BueroJena',\n",
       "  'BVB-GAST',\n",
       "  'Andreas 7362 SL',\n",
       "  'BenMur',\n",
       "  'TP-LINK_FCFF',\n",
       "  'Vodafone Homespot',\n",
       "  'Vodafone Hotspot',\n",
       "  'Vodafone-C54C',\n",
       "  'Vodafone Hotspot']}"
      ]
     },
     "execution_count": 24,
     "metadata": {},
     "output_type": "execute_result"
    }
   ],
   "source": [
    "ESP32.wifi.scanWifi()"
   ]
  },
  {
   "cell_type": "markdown",
   "id": "c9af0617",
   "metadata": {},
   "source": [
    "# Lasers\n",
    "\n",
    "Lasers are essentially PWM pins and can tune a voltage signal between 0..3.3V in case of the ESP32\n",
    "You can also hook up LEDs "
   ]
  },
  {
   "cell_type": "code",
   "execution_count": 28,
   "id": "5727098a",
   "metadata": {},
   "outputs": [
    {
     "name": "stdout",
     "output_type": "stream",
     "text": [
      "{'LASER1pin': 18, 'LASER2pin': 19, 'LASER3pin': 0}\n",
      "18\n"
     ]
    }
   ],
   "source": [
    "# set laser pins \n",
    "if(0):\n",
    "    ESP32.laser.set_laserpin(laserid=1, laserpin=15)\n",
    "    ESP32.laser.set_laserpin(laserid=2, laserpin=16)\n",
    "    ESP32.laser.set_laserpin(laserid=3, laserpin=17)\n",
    "\n",
    "# get laser pins\n",
    "print(ESP32.laser.get_laserpins())\n",
    "print(ESP32.laser.get_laserpin(laserid=1))"
   ]
  },
  {
   "cell_type": "code",
   "execution_count": 26,
   "id": "f4b70f21",
   "metadata": {},
   "outputs": [
    {
     "name": "stderr",
     "output_type": "stream",
     "text": [
      "2022-12-16 11:50:45 DEBUG [UC2Client] Setting Laser 1, value: 1000\n",
      "2022-12-16 11:50:46 DEBUG [UC2Client] Setting Laser 2, value: 1000\n",
      "2022-12-16 11:50:47 DEBUG [UC2Client] Setting Laser 3, value: 1000\n"
     ]
    },
    {
     "data": {
      "text/plain": [
       "'[413109][I][SerialProcess.cpp:41] loop(): process single task[413109][I][LaserController.cpp:101] act(): LaserID 3, LaserVal 1000, LaserDespeckle 0, LaserDespecklePeriod 100'"
      ]
     },
     "execution_count": 26,
     "metadata": {},
     "output_type": "execute_result"
    }
   ],
   "source": [
    "# set laser values\n",
    "ESP32.laser.set_laser(channel=1, value=1000, despeckleAmplitude=0, despecklePeriod=10, timeout=20, is_blocking = True)\n",
    "ESP32.laser.set_laser(channel=2, value=1000, despeckleAmplitude=0, despecklePeriod=10, timeout=20, is_blocking = True)\n",
    "ESP32.laser.set_laser(channel=3, value=1000, despeckleAmplitude=0, despecklePeriod=10, timeout=20, is_blocking = True)\n"
   ]
  },
  {
   "cell_type": "code",
   "execution_count": null,
   "id": "591d682f",
   "metadata": {},
   "outputs": [],
   "source": []
  }
 ],
 "metadata": {
  "kernelspec": {
   "display_name": "Python 3.9.13 ('imswitch39')",
   "language": "python",
   "name": "python3"
  },
  "language_info": {
   "codemirror_mode": {
    "name": "ipython",
    "version": 3
   },
   "file_extension": ".py",
   "mimetype": "text/x-python",
   "name": "python",
   "nbconvert_exporter": "python",
   "pygments_lexer": "ipython3",
   "version": "3.9.13"
  },
  "vscode": {
   "interpreter": {
    "hash": "4455b128139e873919c7556eddf8448836b81873ec16c38976b247a4fd2a6886"
   }
  }
 },
 "nbformat": 4,
 "nbformat_minor": 5
}

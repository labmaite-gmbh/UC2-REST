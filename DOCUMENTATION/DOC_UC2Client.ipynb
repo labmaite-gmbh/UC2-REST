{
 "cells": [
  {
   "cell_type": "markdown",
   "id": "7b18ec0a",
   "metadata": {},
   "source": [
    "<a href=\"https://colab.research.google.com/github/openUC2/UC2-REST/blob/master/DOCUMENTATION/DOC_UC2Client.ipynb\" target=\"_parent\"><img src=\"https://colab.research.google.com/assets/colab-badge.svg\" alt=\"Open in Colab\"/></a>"
   ]
  },
  {
   "cell_type": "markdown",
   "id": "0456a946",
   "metadata": {},
   "source": [
    "# UC2 REST Tutorial\n",
    "\n",
    "Here we are going to teach you how to interact with the UC2 microcontroller and how you can add additional functionalities. \n",
    "\n",
    "In order to use the client in your python environment you need the following packages to be installed:\n",
    "\n",
    "(use the `!` to install it from within this jupyter notebook)\n",
    "```py\n",
    "!pip install UC2-REST\n",
    "```\n",
    "\n",
    "This code has been tested with the ESP32 WEMOS D1 R32 + CNC shield v3, where 3 stepper are connected to the board and an LED Matrix (WS2812, adafruit) is connected to the FEED pin. \n",
    "\n",
    "If you find an error, please report it [here](https://github.com/openUC2/UC2-REST/issues/new) "
   ]
  },
  {
   "cell_type": "code",
   "execution_count": 1,
   "id": "37e5e2f1",
   "metadata": {},
   "outputs": [
    {
     "name": "stdout",
     "output_type": "stream",
     "text": [
      "\u001b[33mDEPRECATION: Configuring installation scheme with distutils config files is deprecated and will no longer work in the near future. If you are using a Homebrew or Linuxbrew Python, please see discussion at https://github.com/Homebrew/homebrew-core/issues/76621\u001b[0m\u001b[33m\n",
      "\u001b[0m\u001b[33mWARNING: Ignoring invalid distribution -umanfriendly (/usr/local/lib/python3.8/site-packages)\u001b[0m\u001b[33m\n",
      "\u001b[0m\u001b[33mWARNING: Ignoring invalid distribution -umanfriendly (/usr/local/lib/python3.8/site-packages)\u001b[0m\u001b[33m\n",
      "\u001b[0mRequirement already satisfied: UC2-REST in /Users/bene/Dropbox/Dokumente/Promotion/PROJECTS/UC2-REST (develop)\n",
      "Requirement already satisfied: numpy in /usr/local/lib/python3.8/site-packages (from UC2-REST) (1.23.4)\n",
      "Requirement already satisfied: requests in /usr/local/lib/python3.8/site-packages (from UC2-REST) (2.28.1)\n",
      "Requirement already satisfied: pyserial in /usr/local/lib/python3.8/site-packages (from UC2-REST) (3.5)\n",
      "Requirement already satisfied: esptool in /usr/local/lib/python3.8/site-packages (from UC2-REST) (4.3)\n",
      "Requirement already satisfied: progressbar2 in /usr/local/lib/python3.8/site-packages (from UC2-REST) (4.2.0)\n",
      "Requirement already satisfied: pillow in /usr/local/lib/python3.8/site-packages (from UC2-REST) (9.3.0)\n",
      "Requirement already satisfied: reedsolo<=1.5.4,>=1.5.3 in /usr/local/lib/python3.8/site-packages (from esptool->UC2-REST) (1.5.4)\n",
      "Requirement already satisfied: bitstring>=3.1.6 in /usr/local/lib/python3.8/site-packages (from esptool->UC2-REST) (3.1.9)\n",
      "Requirement already satisfied: cryptography>=2.1.4 in /usr/local/lib/python3.8/site-packages (from esptool->UC2-REST) (38.0.1)\n",
      "Requirement already satisfied: ecdsa>=0.16.0 in /usr/local/lib/python3.8/site-packages (from esptool->UC2-REST) (0.18.0)\n",
      "Requirement already satisfied: python-utils>=3.0.0 in /usr/local/lib/python3.8/site-packages (from progressbar2->UC2-REST) (3.4.5)\n",
      "Requirement already satisfied: idna<4,>=2.5 in /usr/local/lib/python3.8/site-packages (from requests->UC2-REST) (3.4)\n",
      "Requirement already satisfied: charset-normalizer<3,>=2 in /usr/local/lib/python3.8/site-packages (from requests->UC2-REST) (2.1.1)\n",
      "Requirement already satisfied: certifi>=2017.4.17 in /usr/local/lib/python3.8/site-packages (from requests->UC2-REST) (2022.9.24)\n",
      "Requirement already satisfied: urllib3<1.27,>=1.21.1 in /usr/local/lib/python3.8/site-packages (from requests->UC2-REST) (1.26.12)\n",
      "Requirement already satisfied: cffi>=1.12 in /usr/local/lib/python3.8/site-packages (from cryptography>=2.1.4->esptool->UC2-REST) (1.14.5)\n",
      "Requirement already satisfied: six>=1.9.0 in /usr/local/lib/python3.8/site-packages (from ecdsa>=0.16.0->esptool->UC2-REST) (1.16.0)\n",
      "Requirement already satisfied: pycparser in /usr/local/lib/python3.8/site-packages (from cffi>=1.12->cryptography>=2.1.4->esptool->UC2-REST) (2.20)\n",
      "\u001b[33mWARNING: Ignoring invalid distribution -umanfriendly (/usr/local/lib/python3.8/site-packages)\u001b[0m\u001b[33m\n",
      "\u001b[0m\u001b[33mDEPRECATION: Configuring installation scheme with distutils config files is deprecated and will no longer work in the near future. If you are using a Homebrew or Linuxbrew Python, please see discussion at https://github.com/Homebrew/homebrew-core/issues/76621\u001b[0m\u001b[33m\n",
      "\u001b[0m\u001b[33mWARNING: Ignoring invalid distribution -umanfriendly (/usr/local/lib/python3.8/site-packages)\u001b[0m\u001b[33m\n",
      "\u001b[0m\u001b[33mWARNING: Ignoring invalid distribution -umanfriendly (/usr/local/lib/python3.8/site-packages)\u001b[0m\u001b[33m\n",
      "\u001b[0m\u001b[33mWARNING: Ignoring invalid distribution -umanfriendly (/usr/local/lib/python3.8/site-packages)\u001b[0m\u001b[33m\n",
      "\u001b[0m\u001b[33mWARNING: There was an error checking the latest version of pip.\u001b[0m\u001b[33m\n",
      "\u001b[0m\u001b[33mDEPRECATION: Configuring installation scheme with distutils config files is deprecated and will no longer work in the near future. If you are using a Homebrew or Linuxbrew Python, please see discussion at https://github.com/Homebrew/homebrew-core/issues/76621\u001b[0m\u001b[33m\n",
      "\u001b[0m\u001b[33mWARNING: Ignoring invalid distribution -umanfriendly (/usr/local/lib/python3.8/site-packages)\u001b[0m\u001b[33m\n",
      "\u001b[0m\u001b[33mWARNING: Ignoring invalid distribution -umanfriendly (/usr/local/lib/python3.8/site-packages)\u001b[0m\u001b[33m\n",
      "\u001b[0mRequirement already satisfied: progressbar2 in /usr/local/lib/python3.8/site-packages (4.2.0)\n",
      "Requirement already satisfied: python-utils>=3.0.0 in /usr/local/lib/python3.8/site-packages (from progressbar2) (3.4.5)\n",
      "\u001b[33mWARNING: Ignoring invalid distribution -umanfriendly (/usr/local/lib/python3.8/site-packages)\u001b[0m\u001b[33m\n",
      "\u001b[0m\u001b[33mDEPRECATION: Configuring installation scheme with distutils config files is deprecated and will no longer work in the near future. If you are using a Homebrew or Linuxbrew Python, please see discussion at https://github.com/Homebrew/homebrew-core/issues/76621\u001b[0m\u001b[33m\n",
      "\u001b[0m\u001b[33mWARNING: Ignoring invalid distribution -umanfriendly (/usr/local/lib/python3.8/site-packages)\u001b[0m\u001b[33m\n",
      "\u001b[0m\u001b[33mWARNING: Ignoring invalid distribution -umanfriendly (/usr/local/lib/python3.8/site-packages)\u001b[0m\u001b[33m\n",
      "\u001b[0m\u001b[33mWARNING: Ignoring invalid distribution -umanfriendly (/usr/local/lib/python3.8/site-packages)\u001b[0m\u001b[33m\n",
      "\u001b[0m\u001b[33mWARNING: There was an error checking the latest version of pip.\u001b[0m\u001b[33m\n",
      "\u001b[0m"
     ]
    }
   ],
   "source": [
    "!pip install UC2-REST # only if you have not installed it already\n",
    "!pip install progressbar2"
   ]
  },
  {
   "cell_type": "markdown",
   "id": "623bc1e4",
   "metadata": {},
   "source": [
    "## Organize all imports\n",
    "\n",
    "First of all we need to import the `ESP32Client`. Since it is not yet a standalone pip package, we have to do that via a relaitve import, meaning that the file is in the same folder as this Jupyter Notebook"
   ]
  },
  {
   "cell_type": "code",
   "execution_count": 1,
   "id": "c5e2f6da",
   "metadata": {},
   "outputs": [
    {
     "name": "stderr",
     "output_type": "stream",
     "text": [
      "/opt/anaconda3/envs/imswitch39/lib/python3.9/site-packages/requests/__init__.py:109: RequestsDependencyWarning: urllib3 (1.26.9) or chardet (5.0.0)/charset_normalizer (2.0.12) doesn't match a supported version!\n",
      "  warnings.warn(\n"
     ]
    }
   ],
   "source": [
    "%load_ext autoreload \n",
    "%autoreload 2\n",
    "\n",
    "\n",
    "import uc2rest\n",
    "import time\n",
    "import numpy as np"
   ]
  },
  {
   "cell_type": "markdown",
   "id": "8db1ee0c",
   "metadata": {},
   "source": [
    "# Connecting to the ESP32 via USB\n",
    "\n",
    "Now we want to initiliaze the USB-serial connection. Therefore, connect the ESP32 to your computer using a data (!) USB cable and establish the connection. You can leave the port as \"unknown\" as the portfinder may identify the ESP.\n",
    "\n",
    "**Important:** Close all applications that may be connected to the ESP (e.g. Arduino Serial Plotter)\n",
    "\n",
    "**IMPORTANT:** Install the USB serial driver for the ESP32: https://learn.sparkfun.com/tutorials/how-to-install-ch340-drivers/all"
   ]
  },
  {
   "cell_type": "code",
   "execution_count": 2,
   "id": "caadeb4f",
   "metadata": {},
   "outputs": [
    {
     "name": "stderr",
     "output_type": "stream",
     "text": [
      "2022-11-23 08:42:27 ERROR [UC2Client] [Errno 2] could not open port unknown: [Errno 2] No such file or directory: 'unknown'\n",
      "2022-11-23 08:42:27 DEBUG [UC2Client] /dev/cu.usbserial-0001\n",
      "2022-11-23 08:42:30 DEBUG [UC2Client] {\"task\": \"/state_get\"}\n",
      "2022-11-23 08:42:30 DEBUG [UC2Client] We are connected: True on port: /dev/cu.usbserial-0001\n",
      "2022-11-23 08:42:30 DEBUG [UC2Client] Attention, lasers are on channels 1,2,3\n",
      "2022-11-23 08:42:30 DEBUG [UC2Client] {\"task\": \"/motor_get\"}\n",
      "2022-11-23 08:42:30 DEBUG [UC2Client] {\"task\": \"/ledarr_get\"}\n",
      "2022-11-23 08:42:30 DEBUG [UC2Client] {\"task\": \"/laser_get\"}\n",
      "2022-11-23 08:42:30 DEBUG [UC2Client] {\"task\": \"/state_get\"}\n"
     ]
    },
    {
     "name": "stdout",
     "output_type": "stream",
     "text": [
      "loaded config is valid\n"
     ]
    }
   ],
   "source": [
    "ESP32 = uc2rest.UC2Client(serialport=\"unknown\")\n",
    "\n",
    "# setting debug output of the serial to true - all message will be printed\n",
    "ESP32.serial.DEBUG=True"
   ]
  },
  {
   "cell_type": "markdown",
   "id": "9e177d30",
   "metadata": {},
   "source": [
    "# Test the REST"
   ]
  },
  {
   "cell_type": "markdown",
   "id": "835ce39c",
   "metadata": {},
   "source": [
    "We can test the serial and check which firmware was uploaded when:"
   ]
  },
  {
   "cell_type": "code",
   "execution_count": 5,
   "id": "7a89aaa2",
   "metadata": {},
   "outputs": [
    {
     "name": "stderr",
     "output_type": "stream",
     "text": [
      "2022-11-23 08:44:51 DEBUG [UC2Client] {'task': '/motor_get'}\n",
      "2022-11-23 08:44:52 DEBUG [UC2Client] {'task': '/state_get'}\n"
     ]
    },
    {
     "name": "stdout",
     "output_type": "stream",
     "text": [
      "{'steppers': [{'stepperid': 0, 'dir': 14, 'step': 17, 'enable': 12, 'dir_inverted': False, 'step_inverted': False, 'enable_inverted': False, 'speed': 0, 'speedmax': 200000, 'max_pos': 100000, 'min_pos': -100000, 'position': 0, 'isbusy': False}, {'stepperid': 1, 'dir': 16, 'step': 26, 'enable': 12, 'dir_inverted': False, 'step_inverted': False, 'enable_inverted': False, 'speed': 0, 'speedmax': 200000, 'max_pos': 100000, 'min_pos': -100000, 'position': 0, 'isbusy': False}, {'stepperid': 2, 'dir': 27, 'step': 25, 'enable': 12, 'dir_inverted': False, 'step_inverted': False, 'enable_inverted': False, 'speed': 0, 'speedmax': 200000, 'max_pos': 100000, 'min_pos': -100000, 'position': 0, 'isbusy': False}, {'stepperid': 3, 'dir': 0, 'step': 0, 'enable': 0, 'dir_inverted': False, 'step_inverted': False, 'enable_inverted': False, 'speed': 0, 'speedmax': 200000, 'max_pos': 100000, 'min_pos': -100000, 'position': 0, 'isbusy': False}]}\n",
      "{'identifier_name': 'UC2_Feather', 'identifier_id': 'V2.0', 'identifier_date': 'Nov 22 202211:32:42', 'identifier_author': 'BD', 'IDENTIFIER_NAME': 'uc2-esp', 'configIsSet': False}\n"
     ]
    }
   ],
   "source": [
    "# get motor response\n",
    "test_cmd = \"{'task': '/motor_get'}\"\n",
    "ESP32.serial.writeSerial(test_cmd)\n",
    "cmd_return = ESP32.serial.readSerial()\n",
    "print(cmd_return)\n",
    "\n",
    "# get state response\n",
    "test_cmd = \"{'task': '/state_get'}\"\n",
    "ESP32.serial.writeSerial(test_cmd)\n",
    "cmd_return = ESP32.serial.readSerial()\n",
    "print(cmd_return)\n",
    "\n",
    "\n",
    "\n"
   ]
  },
  {
   "cell_type": "markdown",
   "id": "e492c7df",
   "metadata": {},
   "source": [
    "# Moving the motor \n",
    "\n",
    "The following code snippets will help you moving the motors (XYZ) continously or at a known number of `steps` at a certain `speed` level (all measured in steps/s). \n",
    "\n",
    "The additional attributs \n",
    "- `is_blocking` states if the action is performed in the background or not; if `False` no return message will be provided\n",
    "- `is_absolute` says if we go relative or absolute steps \n",
    "- `is_enabled` says if we want to \"unpower\" the motors once we are done (prevent overheating)\n",
    "\n",
    "\n",
    "Once the microcontroller (ESP32) is flashed, the pin definitions are not set yet. We have to do that manually using a customized dictionary and write that to the MCU."
   ]
  },
  {
   "cell_type": "code",
   "execution_count": 7,
   "id": "4ced5633",
   "metadata": {},
   "outputs": [
    {
     "name": "stderr",
     "output_type": "stream",
     "text": [
      "2022-11-23 08:46:40 DEBUG [UC2Client] {\"motor\": {\"steppers\": [{\"stepperid\": 0, \"dir\": 18, \"step\": 19, \"enable\": 12, \"dir_inverted\": false, \"step_inverted\": false, \"enable_inverted\": false, \"speed\": 0, \"speedmax\": 200000, \"max_pos\": 100000, \"min_pos\": -100000}, {\"stepperid\": 1, \"dir\": 16, \"step\": 26, \"enable\": 12, \"dir_inverted\": false, \"step_inverted\": false, \"enable_inverted\": false, \"speed\": 0, \"speedmax\": 200000, \"max_pos\": 100000, \"min_pos\": -100000}, {\"stepperid\": 2, \"dir\": 27, \"step\": 25, \"enable\": 12, \"dir_inverted\": false, \"step_inverted\": false, \"enable_inverted\": false, \"speed\": 0, \"speedmax\": 200000, \"max_pos\": 100000, \"min_pos\": -100000}, {\"stepperid\": 3, \"dir\": 14, \"step\": 17, \"enable\": 12, \"dir_inverted\": false, \"step_inverted\": false, \"enable_inverted\": false, \"speed\": 0, \"speedmax\": 200000, \"max_pos\": 100000, \"min_pos\": -100000}]}, \"task\": \"/motor_set\"}\n"
     ]
    },
    {
     "name": "stdout",
     "output_type": "stream",
     "text": [
      "{'motor': {'steppers': [{'stepperid': 0, 'dir': 18, 'step': 19, 'enable': 12, 'dir_inverted': False, 'step_inverted': False, 'enable_inverted': False, 'speed': 0, 'speedmax': 200000, 'max_pos': 100000, 'min_pos': -100000}, {'stepperid': 1, 'dir': 16, 'step': 26, 'enable': 12, 'dir_inverted': False, 'step_inverted': False, 'enable_inverted': False, 'speed': 0, 'speedmax': 200000, 'max_pos': 100000, 'min_pos': -100000}, {'stepperid': 2, 'dir': 27, 'step': 25, 'enable': 12, 'dir_inverted': False, 'step_inverted': False, 'enable_inverted': False, 'speed': 0, 'speedmax': 200000, 'max_pos': 100000, 'min_pos': -100000}, {'stepperid': 3, 'dir': 14, 'step': 17, 'enable': 12, 'dir_inverted': False, 'step_inverted': False, 'enable_inverted': False, 'speed': 0, 'speedmax': 200000, 'max_pos': 100000, 'min_pos': -100000}]}, 'task': '/motor_set'}\n"
     ]
    },
    {
     "name": "stderr",
     "output_type": "stream",
     "text": [
      "2022-11-23 08:46:40 DEBUG [UC2Client] {\"task\": \"/motor_get\", \"isbusy\": 1}\n",
      "2022-11-23 08:46:40 DEBUG [UC2Client] {\"task\": \"/motor_get\"}\n"
     ]
    },
    {
     "data": {
      "text/plain": [
       "[{'stepperid': 0,\n",
       "  'dir': 18,\n",
       "  'step': 19,\n",
       "  'enable': 12,\n",
       "  'dir_inverted': False,\n",
       "  'step_inverted': False,\n",
       "  'enable_inverted': False,\n",
       "  'speed': 0,\n",
       "  'speedmax': 200000,\n",
       "  'max_pos': 100000,\n",
       "  'min_pos': -100000,\n",
       "  'position': 0,\n",
       "  'isbusy': False},\n",
       " {'stepperid': 1,\n",
       "  'dir': 16,\n",
       "  'step': 26,\n",
       "  'enable': 12,\n",
       "  'dir_inverted': False,\n",
       "  'step_inverted': False,\n",
       "  'enable_inverted': False,\n",
       "  'speed': 0,\n",
       "  'speedmax': 200000,\n",
       "  'max_pos': 100000,\n",
       "  'min_pos': -100000,\n",
       "  'position': 0,\n",
       "  'isbusy': False},\n",
       " {'stepperid': 2,\n",
       "  'dir': 27,\n",
       "  'step': 25,\n",
       "  'enable': 12,\n",
       "  'dir_inverted': False,\n",
       "  'step_inverted': False,\n",
       "  'enable_inverted': False,\n",
       "  'speed': 0,\n",
       "  'speedmax': 200000,\n",
       "  'max_pos': 100000,\n",
       "  'min_pos': -100000,\n",
       "  'position': 0,\n",
       "  'isbusy': False},\n",
       " {'stepperid': 3,\n",
       "  'dir': 14,\n",
       "  'step': 17,\n",
       "  'enable': 12,\n",
       "  'dir_inverted': False,\n",
       "  'step_inverted': False,\n",
       "  'enable_inverted': False,\n",
       "  'speed': 0,\n",
       "  'speedmax': 200000,\n",
       "  'max_pos': 100000,\n",
       "  'min_pos': -100000,\n",
       "  'position': 0,\n",
       "  'isbusy': False}]"
      ]
     },
     "execution_count": 7,
     "metadata": {},
     "output_type": "execute_result"
    }
   ],
   "source": [
    "# setup all motors at once \n",
    "print(ESP32.motor.settingsdict)\n",
    "\n",
    "# Remember => 0 = A, 1 = X, 2 = Y, 3 = Z w.r.t. the axises of the microscope\n",
    "\n",
    "ESP32.motor.settingsdict[\"motor\"][\"steppers\"][0][\"dir\"]=18\n",
    "ESP32.motor.settingsdict[\"motor\"][\"steppers\"][0][\"step\"]=19\n",
    "ESP32.motor.settingsdict[\"motor\"][\"steppers\"][0][\"enable\"]=12\n",
    "\n",
    "ESP32.motor.settingsdict[\"motor\"][\"steppers\"][1][\"dir\"]=16\n",
    "ESP32.motor.settingsdict[\"motor\"][\"steppers\"][1][\"step\"]=26\n",
    "ESP32.motor.settingsdict[\"motor\"][\"steppers\"][2][\"dir\"]=27\n",
    "\n",
    "ESP32.motor.settingsdict[\"motor\"][\"steppers\"][2][\"step\"]=25\n",
    "ESP32.motor.settingsdict[\"motor\"][\"steppers\"][3][\"dir\"]=14\n",
    "ESP32.motor.settingsdict[\"motor\"][\"steppers\"][3][\"step\"]=17\n",
    "\n",
    "ESP32.motor.settingsdict[\"motor\"][\"steppers\"][1][\"enable\"]=12\n",
    "ESP32.motor.settingsdict[\"motor\"][\"steppers\"][2][\"enable\"]=12\n",
    "ESP32.motor.settingsdict[\"motor\"][\"steppers\"][3][\"enable\"]=12\n",
    "ESP32.motor.set_motors(ESP32.motor.settingsdict)\n",
    "\n",
    "# check if we set the right parameters\n",
    "ESP32.motor.get_motors()\n"
   ]
  },
  {
   "cell_type": "code",
   "execution_count": 8,
   "id": "d6f65b85",
   "metadata": {},
   "outputs": [
    {
     "name": "stderr",
     "output_type": "stream",
     "text": [
      "2022-11-23 08:48:16 DEBUG [UC2Client] {\"task\": \"/motor_set\", \"motor\": {\"steppers\": [{\"stepperid\": 1, \"step\": 26, \"dir\": 16, \"enable\": 12, \"position\": 0, \"isen\": 1}]}}\n",
      "2022-11-23 08:48:16 DEBUG [UC2Client] {\"task\": \"/motor_get\", \"isbusy\": 1}\n",
      "2022-11-23 08:48:16 DEBUG [UC2Client] {\"task\": \"/motor_set\", \"motor\": {\"steppers\": [{\"stepperid\": 2, \"step\": 25, \"dir\": 27, \"enable\": 12, \"position\": 0, \"isen\": 1}]}}\n",
      "2022-11-23 08:48:17 DEBUG [UC2Client] {\"task\": \"/motor_get\", \"isbusy\": 1}\n",
      "2022-11-23 08:48:17 DEBUG [UC2Client] {\"task\": \"/motor_set\", \"motor\": {\"steppers\": [{\"stepperid\": 3, \"step\": 17, \"dir\": 14, \"enable\": 12, \"position\": 0, \"isen\": 1}]}}\n",
      "2022-11-23 08:48:17 DEBUG [UC2Client] {\"task\": \"/motor_get\", \"isbusy\": 1}\n",
      "2022-11-23 08:48:17 DEBUG [UC2Client] {\"task\": \"/motor_set\", \"motor\": {\"steppers\": [{\"stepperid\": 0, \"step\": 19, \"dir\": 18, \"enable\": 12, \"position\": 0, \"isen\": 1}]}}\n",
      "2022-11-23 08:48:17 DEBUG [UC2Client] {\"task\": \"/motor_get\", \"isbusy\": 1}\n",
      "2022-11-23 08:48:17 DEBUG [UC2Client] {\"task\": \"/motor_get\"}\n"
     ]
    },
    {
     "name": "stdout",
     "output_type": "stream",
     "text": [
      "{'stepperid': 1, 'dir': 16, 'step': 26, 'enable': 12, 'dir_inverted': False, 'step_inverted': False, 'enable_inverted': False, 'speed': 0, 'speedmax': 200000, 'max_pos': 100000, 'min_pos': -100000, 'position': 0, 'isbusy': False}\n"
     ]
    }
   ],
   "source": [
    "# OR setup motors individually (according to WEMOS R32 D1)\n",
    "ESP32.motor.set_motor(stepperid = 1, position = 0, stepPin = 26, dirPin=16, enablePin=12, maxPos=None, minPos=None, acceleration=None, isEnable=1)\n",
    "ESP32.motor.set_motor(stepperid = 2, position = 0, stepPin = 25, dirPin=27, enablePin=12, maxPos=None, minPos=None, acceleration=None, isEnable=1)\n",
    "ESP32.motor.set_motor(stepperid = 3, position = 0, stepPin = 17, dirPin=14, enablePin=12, maxPos=None, minPos=None, acceleration=None, isEnable=1)\n",
    "ESP32.motor.set_motor(stepperid = 0, position = 0, stepPin = 19, dirPin=18, enablePin=12, maxPos=None, minPos=None, acceleration=None, isEnable=1)\n",
    "\n",
    "# get individual motors\n",
    "print(ESP32.motor.get_motor(axis = 1))\n"
   ]
  },
  {
   "cell_type": "markdown",
   "id": "cb34e939",
   "metadata": {},
   "source": [
    "We can also setup individual motor settings like so:"
   ]
  },
  {
   "cell_type": "code",
   "execution_count": 9,
   "id": "2c95f5f1",
   "metadata": {},
   "outputs": [
    {
     "name": "stderr",
     "output_type": "stream",
     "text": [
      "2022-11-23 08:48:49 DEBUG [UC2Client] {\"task\": \"/motor_set\", \"motor\": {\"steppers\": [{\"stepperid\": 0, \"position\": 10000}]}}\n",
      "2022-11-23 08:48:49 DEBUG [UC2Client] {\"task\": \"/motor_get\", \"isbusy\": 1}\n",
      "2022-11-23 08:48:49 DEBUG [UC2Client] {\"task\": \"/motor_set\", \"motor\": {\"steppers\": [{\"stepperid\": 0, \"acceleration\": 10000}]}}\n",
      "2022-11-23 08:48:49 DEBUG [UC2Client] {\"task\": \"/motor_get\", \"isbusy\": 1}\n",
      "2022-11-23 08:48:49 DEBUG [UC2Client] {\"task\": \"/motor_set\", \"motor\": {\"steppers\": [{\"stepperid\": 0, \"isen\": 1}]}}\n",
      "2022-11-23 08:48:49 DEBUG [UC2Client] {\"task\": \"/motor_get\", \"isbusy\": 1}\n"
     ]
    }
   ],
   "source": [
    "ESP32.motor.set_motor_currentPosition(axis=0, currentPosition=10000)\n",
    "ESP32.motor.set_motor_acceleration(axis=0, acceleration=10000)\n",
    "ESP32.motor.set_motor_enable(is_enable=1)\n",
    "ESP32.motor.set_direction(axis=1, sign=1, timeout=1)\n",
    "ESP32.motor.set_position(axis=1, position=0, timeout=1)\n",
    "\n",
    "# wait to settle\n",
    "time.sleep(2)"
   ]
  },
  {
   "cell_type": "markdown",
   "id": "7c7033d2",
   "metadata": {},
   "source": [
    "## Moving the motors\n",
    "\n",
    "With the below code, we can test the motors spinning or not"
   ]
  },
  {
   "cell_type": "code",
   "execution_count": 10,
   "id": "e2f97425",
   "metadata": {},
   "outputs": [
    {
     "name": "stderr",
     "output_type": "stream",
     "text": [
      "2022-11-23 08:49:33 DEBUG [UC2Client] {\"task\": \"/motor_get\", \"position\": 1}\n",
      "2022-11-23 08:49:33 DEBUG [UC2Client] {\"task\": \"/motor_act\", \"motor\": {\"steppers\": [{\"stepperid\": 0, \"position\": 0, \"speed\": 0.0, \"isabs\": false, \"isaccel\": 0}, {\"stepperid\": 1, \"position\": 10000, \"speed\": 10000.0, \"isabs\": false, \"isaccel\": 0}, {\"stepperid\": 2, \"position\": 0, \"speed\": 0.0, \"isabs\": false, \"isaccel\": 0}, {\"stepperid\": 3, \"position\": 0, \"speed\": 0.0, \"isabs\": false, \"isaccel\": 0}]}}\n"
     ]
    },
    {
     "name": "stdout",
     "output_type": "stream",
     "text": [
      "[10000     0     0     0]\n"
     ]
    },
    {
     "name": "stderr",
     "output_type": "stream",
     "text": [
      "2022-11-23 08:49:34 DEBUG [UC2Client] {\"task\": \"/motor_act\", \"motor\": {\"steppers\": [{\"stepperid\": 0, \"position\": 0, \"speed\": 0.0, \"isabs\": false, \"isaccel\": 0}, {\"stepperid\": 1, \"position\": 0, \"speed\": 0.0, \"isabs\": false, \"isaccel\": 0}, {\"stepperid\": 2, \"position\": 1000, \"speed\": 1000.0, \"isabs\": false, \"isaccel\": 0}, {\"stepperid\": 3, \"position\": 0, \"speed\": 0.0, \"isabs\": false, \"isaccel\": 0}]}}\n",
      "2022-11-23 08:49:35 DEBUG [UC2Client] {\"task\": \"/motor_act\", \"motor\": {\"steppers\": [{\"stepperid\": 0, \"position\": 0, \"speed\": 0.0, \"isabs\": false, \"isaccel\": 0}, {\"stepperid\": 1, \"position\": 0, \"speed\": 0.0, \"isabs\": false, \"isaccel\": 0}, {\"stepperid\": 2, \"position\": 0, \"speed\": 0.0, \"isabs\": false, \"isaccel\": 0}, {\"stepperid\": 3, \"position\": 1000, \"speed\": 1000.0, \"isabs\": false, \"isaccel\": 0}]}}\n",
      "2022-11-23 08:49:36 DEBUG [UC2Client] {\"task\": \"/motor_act\", \"motor\": {\"steppers\": [{\"stepperid\": 0, \"position\": 1000, \"speed\": 1000.0, \"isabs\": false, \"isaccel\": 0}, {\"stepperid\": 1, \"position\": 0, \"speed\": 0.0, \"isabs\": false, \"isaccel\": 0}, {\"stepperid\": 2, \"position\": 0, \"speed\": 0.0, \"isabs\": false, \"isaccel\": 0}, {\"stepperid\": 3, \"position\": 0, \"speed\": 0.0, \"isabs\": false, \"isaccel\": 0}]}}\n",
      "2022-11-23 08:49:37 DEBUG [UC2Client] {\"task\": \"/motor_act\", \"motor\": {\"steppers\": [{\"stepperid\": 0, \"position\": 0, \"speed\": 10000, \"isabs\": false, \"isaccel\": 0}, {\"stepperid\": 1, \"position\": 10000, \"speed\": 10000, \"isabs\": false, \"isaccel\": 0}, {\"stepperid\": 2, \"position\": 10000, \"speed\": 10000, \"isabs\": false, \"isaccel\": 0}, {\"stepperid\": 3, \"position\": 0, \"speed\": 10000, \"isabs\": false, \"isaccel\": 0}]}}\n",
      "2022-11-23 08:49:38 DEBUG [UC2Client] {\"task\": \"/motor_act\", \"motor\": {\"steppers\": [{\"stepperid\": 0, \"position\": 0, \"speed\": 10000, \"isabs\": true, \"isaccel\": 0}, {\"stepperid\": 1, \"position\": 0, \"speed\": 10000, \"isabs\": true, \"isaccel\": 0}, {\"stepperid\": 2, \"position\": 0, \"speed\": 10000, \"isabs\": true, \"isaccel\": 0}, {\"stepperid\": 3, \"position\": 0, \"speed\": 10000, \"isabs\": true, \"isaccel\": 0}]}}\n",
      "2022-11-23 08:49:38 DEBUG [UC2Client] {\"task\": \"/motor_act\", \"motor\": {\"steppers\": [{\"stepperid\": 0, \"speed\": 0, \"isforver\": 1, \"isstop\": false}, {\"stepperid\": 1, \"speed\": 100, \"isforver\": 1, \"isstop\": false}, {\"stepperid\": 2, \"speed\": 0, \"isforver\": 1, \"isstop\": false}, {\"stepperid\": 3, \"speed\": 0, \"isforver\": 1, \"isstop\": false}]}}\n",
      "2022-11-23 08:49:39 DEBUG [UC2Client] {\"task\": \"/motor_act\", \"motor\": {\"steppers\": [{\"stepperid\": 0, \"speed\": 0, \"isforver\": 1, \"isstop\": true}, {\"stepperid\": 1, \"speed\": 0, \"isforver\": 1, \"isstop\": true}, {\"stepperid\": 2, \"speed\": 0, \"isforver\": 1, \"isstop\": true}, {\"stepperid\": 3, \"speed\": 0, \"isforver\": 1, \"isstop\": true}]}}\n",
      "2022-11-23 08:49:40 DEBUG [UC2Client] {\"task\": \"/motor_get\", \"position\": 1}\n"
     ]
    },
    {
     "name": "stdout",
     "output_type": "stream",
     "text": [
      "[ 8424 18350  9350     0]\n"
     ]
    }
   ],
   "source": [
    "# test Motor\n",
    "position1 = ESP32.motor.get_position(timeout=1)\n",
    "print(position1)\n",
    "ESP32.motor.move_x(steps=10000, speed=10000, is_blocking=True)\n",
    "ESP32.motor.move_y(steps=1000, speed=1000, is_blocking=True)\n",
    "ESP32.motor.move_z(steps=1000, speed=1000, is_blocking=True)\n",
    "ESP32.motor.move_t(steps=1000, speed=1000)\n",
    "ESP32.motor.move_xyzt(steps=(0,10000,10000,0), speed=10000, is_blocking=True)\n",
    "ESP32.motor.move_xyzt(steps=(0,0,0,0), speed=10000, is_absolute=True, is_blocking=True)\n",
    "ESP32.motor.move_forever(speed=(0,100,0,0), is_stop=False)\n",
    "time.sleep(1)\n",
    "ESP32.motor.move_forever(speed=(0,0,0,0), is_stop=True)\n",
    "\n",
    "position2 = ESP32.motor.get_position(timeout=1)\n",
    "print(position2)\n"
   ]
  },
  {
   "cell_type": "markdown",
   "id": "ced099d5",
   "metadata": {},
   "source": [
    "# ESP32 State"
   ]
  },
  {
   "cell_type": "code",
   "execution_count": 11,
   "id": "e6db2308",
   "metadata": {},
   "outputs": [
    {
     "name": "stderr",
     "output_type": "stream",
     "text": [
      "2022-11-23 08:50:09 DEBUG [UC2Client] {\"task\": \"/state_get\"}\n",
      "2022-11-23 08:50:09 DEBUG [UC2Client] {\"task\": \"/state_set\", \"isdebug\": 0}\n",
      "2022-11-23 08:50:09 DEBUG [UC2Client] {\"task\": \"/state_get\", \"pscontroller\": 1}\n",
      "2022-11-23 08:50:09 DEBUG [UC2Client] {\"restart\": 1, \"task\": \"/state_act\"}\n"
     ]
    },
    {
     "name": "stdout",
     "output_type": "stream",
     "text": [
      "{'identifier_name': 'UC2_Feather', 'identifier_id': 'V2.0', 'identifier_date': 'Nov 22 202211:32:42', 'identifier_author': 'BD', 'IDENTIFIER_NAME': 'uc2-esp', 'configIsSet': False}\n",
      "0\n"
     ]
    },
    {
     "name": "stderr",
     "output_type": "stream",
     "text": [
      "2022-11-23 08:50:16 DEBUG [UC2Client] {\"task\": \"/state_act\", \"pscontroller\": true}\n",
      "2022-11-23 08:50:16 DEBUG [UC2Client] {\"task\": \"/state_get\", \"isBusy\": 1}\n"
     ]
    },
    {
     "name": "stdout",
     "output_type": "stream",
     "text": [
      "False\n"
     ]
    }
   ],
   "source": [
    "# test state\n",
    "_state = ESP32.state.get_state()\n",
    "print(_state)\n",
    "ESP32.state.set_state(debug=False)\n",
    "_mode = ESP32.state.isControllerMode()\n",
    "print(_mode)\n",
    "ESP32.state.espRestart() # restarts the microcontroller\n",
    "time.sleep(5)\n",
    "ESP32.state.setControllerMode(isController=True)\n",
    "_busy = ESP32.state.isBusy()\n",
    "print(_busy)"
   ]
  },
  {
   "cell_type": "markdown",
   "id": "0d72ffa0",
   "metadata": {},
   "source": [
    "# LED Matrix\n",
    "\n",
    "If the LED matrix is connected to pin 4 and has 16 individual WS2810 LEds, you can set it up like so"
   ]
  },
  {
   "cell_type": "code",
   "execution_count": 12,
   "id": "7ecd5211",
   "metadata": {},
   "outputs": [
    {
     "name": "stderr",
     "output_type": "stream",
     "text": [
      "2022-11-23 08:51:36 DEBUG [UC2Client] {\"task\": \"/ledarr_set\", \"ledArrPin\": 4, \"ledArrNum\": 16}\n",
      "2022-11-23 08:51:36 DEBUG [UC2Client] {\"task\": \"/ledarr_get\"}\n"
     ]
    },
    {
     "name": "stdout",
     "output_type": "stream",
     "text": [
      "{'ledArrNum': 0, 'ledArrPin': 0, 'LEDArrMode': [0, 1, 2, 3, 4, 5, 6, 7], 'led_ison': False}\n"
     ]
    }
   ],
   "source": [
    "# setup led configuration\n",
    "ESP32.led.set_ledpin(ledArrPin=4, ledArrNum=16)\n",
    "print(ESP32.led.get_ledpin())"
   ]
  },
  {
   "cell_type": "code",
   "execution_count": 13,
   "id": "6970eaea",
   "metadata": {},
   "outputs": [
    {
     "name": "stderr",
     "output_type": "stream",
     "text": [
      "2022-11-23 08:51:39 DEBUG [UC2Client] Setting LED Pattern (array) \n",
      "2022-11-23 08:51:39 DEBUG [UC2Client] {\"red\": [0, 0, 0, 0, 0, 0, 0, 0, 0, 0, 0, 0, 0, 0, 0], \"green\": [0, 0, 0, 0, 0, 0, 0, 0, 0, 0, 0, 0, 0, 0, 0], \"blue\": [0, 0, 0, 0, 0, 0, 0, 0, 0, 0, 0, 0, 0, 0, 0], \"arraySize\": 5, \"LEDArrMode\": \"array\", \"task\": \"/ledarr_act\"}\n",
      "2022-11-23 08:51:39 DEBUG [UC2Client] Setting LED Pattern (full): (255, 0, 0)\n",
      "2022-11-23 08:51:39 DEBUG [UC2Client] {\"task\": \"/ledarr_act\", \"red\": 255, \"green\": 0, \"blue\": 0, \"LEDArrMode\": \"full\"}\n",
      "2022-11-23 08:51:39 DEBUG [UC2Client] Setting LED PAttern: 0 - (0, 255, 0)\n",
      "2022-11-23 08:51:39 DEBUG [UC2Client] {\"red\": 0, \"green\": 255, \"blue\": 0, \"indexled\": 0, \"LEDArrMode\": \"single\", \"task\": \"/ledarr_act\"}\n"
     ]
    }
   ],
   "source": [
    "# test LED\n",
    "led_pattern = np.zeros((1, 5, 5, 3), dtype=np.uint8)\n",
    "ESP32.led.send_LEDMatrix_array(led_pattern=led_pattern, timeout=1)\n",
    "ESP32.led.send_LEDMatrix_full(intensity=(255, 0, 0), timeout=1)\n",
    "ESP32.led.send_LEDMatrix_single(indexled=0, intensity=(0, 255, 0), timeout=1)"
   ]
  },
  {
   "cell_type": "markdown",
   "id": "a0ad184a",
   "metadata": {},
   "source": [
    "# Wifi\n",
    "This feature will be implemented soon. It will help you to connect to a common Wifi hotspot or create an access point "
   ]
  },
  {
   "cell_type": "code",
   "execution_count": 14,
   "id": "d79b1629",
   "metadata": {},
   "outputs": [
    {
     "name": "stderr",
     "output_type": "stream",
     "text": [
      "2022-11-23 08:52:24 DEBUG [UC2Client] {\"task\": \"/wifi/scan\"}\n"
     ]
    }
   ],
   "source": [
    "ESP32.wifi.scanWifi()"
   ]
  },
  {
   "cell_type": "markdown",
   "id": "c9af0617",
   "metadata": {},
   "source": [
    "# Lasers\n",
    "\n",
    "Lasers are essentially PWM pins and can tune a voltage signal between 0..3.3V in case of the ESP32\n",
    "You can also hook up LEDs "
   ]
  },
  {
   "cell_type": "code",
   "execution_count": 15,
   "id": "5727098a",
   "metadata": {},
   "outputs": [
    {
     "name": "stderr",
     "output_type": "stream",
     "text": [
      "2022-11-23 08:54:56 DEBUG [UC2Client] {\"task\": \"/laser_set\", \"LASERid\": 1, \"LASERpin\": 15}\n",
      "2022-11-23 08:54:56 DEBUG [UC2Client] {\"task\": \"/laser_set\", \"LASERid\": 2, \"LASERpin\": 16}\n",
      "2022-11-23 08:54:56 DEBUG [UC2Client] {\"task\": \"/laser_set\", \"LASERid\": 3, \"LASERpin\": 17}\n"
     ]
    }
   ],
   "source": [
    "# set laser pins \n",
    "ESP32.laser.set_laserpin(laserid=1, laserpin=15)\n",
    "ESP32.laser.set_laserpin(laserid=2, laserpin=16)\n",
    "ESP32.laser.set_laserpin(laserid=3, laserpin=17)\n"
   ]
  },
  {
   "cell_type": "code",
   "execution_count": 16,
   "id": "f4b70f21",
   "metadata": {},
   "outputs": [
    {
     "name": "stderr",
     "output_type": "stream",
     "text": [
      "2022-11-23 08:55:24 DEBUG [UC2Client] Setting Laser 1, value: 1000\n",
      "2022-11-23 08:55:24 DEBUG [UC2Client] {\"task\": \"/laser_act\", \"LASERid\": 1, \"LASERval\": 1000, \"LASERdespeckle\": 0, \"LASERdespecklePeriod\": 10}\n",
      "2022-11-23 08:55:24 DEBUG [UC2Client] Setting Laser 2, value: 1000\n",
      "2022-11-23 08:55:24 DEBUG [UC2Client] {\"task\": \"/laser_act\", \"LASERid\": 2, \"LASERval\": 1000, \"LASERdespeckle\": 0, \"LASERdespecklePeriod\": 10}\n",
      "2022-11-23 08:55:24 DEBUG [UC2Client] Setting Laser 3, value: 1000\n",
      "2022-11-23 08:55:24 DEBUG [UC2Client] {\"task\": \"/laser_act\", \"LASERid\": 3, \"LASERval\": 1000, \"LASERdespeckle\": 0, \"LASERdespecklePeriod\": 10}\n"
     ]
    },
    {
     "data": {
      "text/plain": [
       "{'return': 1}"
      ]
     },
     "execution_count": 16,
     "metadata": {},
     "output_type": "execute_result"
    }
   ],
   "source": [
    "# set laser values\n",
    "ESP32.laser.set_laser(channel=1, value=1000, despeckleAmplitude=0, despecklePeriod=10, timeout=20, is_blocking = True)\n",
    "ESP32.laser.set_laser(channel=2, value=1000, despeckleAmplitude=0, despecklePeriod=10, timeout=20, is_blocking = True)\n",
    "ESP32.laser.set_laser(channel=3, value=1000, despeckleAmplitude=0, despecklePeriod=10, timeout=20, is_blocking = True)\n"
   ]
  }
 ],
 "metadata": {
  "kernelspec": {
   "display_name": "Python 3.9.13 ('imswitch39')",
   "language": "python",
   "name": "python3"
  },
  "language_info": {
   "codemirror_mode": {
    "name": "ipython",
    "version": 3
   },
   "file_extension": ".py",
   "mimetype": "text/x-python",
   "name": "python",
   "nbconvert_exporter": "python",
   "pygments_lexer": "ipython3",
   "version": "3.9.13 | packaged by conda-forge | (main, May 27 2022, 17:01:00) \n[Clang 13.0.1 ]"
  },
  "vscode": {
   "interpreter": {
    "hash": "4455b128139e873919c7556eddf8448836b81873ec16c38976b247a4fd2a6886"
   }
  }
 },
 "nbformat": 4,
 "nbformat_minor": 5
}
